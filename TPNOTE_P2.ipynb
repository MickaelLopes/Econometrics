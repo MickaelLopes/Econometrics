{
 "cells": [
  {
   "cell_type": "code",
   "execution_count": 2,
   "metadata": {
    "ExecuteTime": {
     "end_time": "2019-04-15T09:59:20.663461Z",
     "start_time": "2019-04-15T09:59:20.642520Z"
    }
   },
   "outputs": [
    {
     "name": "stderr",
     "output_type": "stream",
     "text": [
      "/home/mickael/anaconda3/lib/python3.6/site-packages/statsmodels/compat/pandas.py:56: FutureWarning: The pandas.core.datetools module is deprecated and will be removed in a future version. Please use the pandas.tseries module instead.\n",
      "  from pandas.core import datetools\n",
      "/home/mickael/.local/lib/python3.6/site-packages/matplotlib/__init__.py:886: MatplotlibDeprecationWarning: \n",
      "examples.directory is deprecated; in the future, examples will be found relative to the 'datapath' directory.\n",
      "  \"found relative to the 'datapath' directory.\".format(key))\n"
     ]
    }
   ],
   "source": [
    "import numpy as np\n",
    "import pandas as pd\n",
    "from scipy import stats\n",
    "from numpy import matlib as mb\n",
    "from statsmodels.graphics.tsaplots import plot_acf, plot_pacf\n",
    "import matplotlib.pyplot as plt \n",
    "import statsmodels as sm\n",
    "from sklearn.linear_model import LinearRegression\n",
    "import matplotlib.dates as mdates\n",
    "import seaborn as sns\n",
    "sns.set(style='whitegrid')\n",
    "\n",
    "import warnings\n",
    "warnings.filterwarnings(\"ignore\")"
   ]
  },
  {
   "cell_type": "code",
   "execution_count": 3,
   "metadata": {
    "ExecuteTime": {
     "end_time": "2019-04-15T09:05:21.025561Z",
     "start_time": "2019-04-15T09:05:21.011603Z"
    }
   },
   "outputs": [],
   "source": [
    "def compute_pvalue_stat(X,y,nbVar):\n",
    "    n,k = X.shape\n",
    "    matriceGram = np.dot(np.transpose(X),X)\n",
    "    matriceGram_inv = np.linalg.inv(matriceGram)\n",
    "    beta = np.dot(np.dot(matriceGram_inv,np.transpose(X)),y)\n",
    "    u = y - np.dot(X,beta)\n",
    "    sig2 = np.dot(u.T,u)/(n-(nbVar)) #+1\n",
    "    std = np.sqrt(np.diag(sig2*matriceGram_inv))\n",
    "    t = beta/std\n",
    "    SSR = np.dot(u.T,u)\n",
    "    p_distrib = stats.t.cdf(abs(t) , n-(nbVar)) #+1\n",
    "    p_value = (1 - p_distrib) * 2\n",
    "    return beta, u, sig2, std, t, SSR, p_value"
   ]
  },
  {
   "cell_type": "markdown",
   "metadata": {
    "heading_collapsed": true
   },
   "source": [
    "# Partie 1"
   ]
  },
  {
   "cell_type": "markdown",
   "metadata": {
    "hidden": true
   },
   "source": [
    "## 1\n",
    "1. Lire le fichier mroz.txt. Ne sélectionner que les observations pour lesquelles la variable wage\n",
    "est strictement positive."
   ]
  },
  {
   "cell_type": "code",
   "execution_count": 5,
   "metadata": {
    "ExecuteTime": {
     "end_time": "2019-04-14T13:34:41.625133Z",
     "start_time": "2019-04-14T13:34:41.557176Z"
    },
    "hidden": true
   },
   "outputs": [
    {
     "data": {
      "text/html": [
       "<div>\n",
       "<style scoped>\n",
       "    .dataframe tbody tr th:only-of-type {\n",
       "        vertical-align: middle;\n",
       "    }\n",
       "\n",
       "    .dataframe tbody tr th {\n",
       "        vertical-align: top;\n",
       "    }\n",
       "\n",
       "    .dataframe thead th {\n",
       "        text-align: right;\n",
       "    }\n",
       "</style>\n",
       "<table border=\"1\" class=\"dataframe\">\n",
       "  <thead>\n",
       "    <tr style=\"text-align: right;\">\n",
       "      <th></th>\n",
       "      <th>inlf</th>\n",
       "      <th>hours</th>\n",
       "      <th>kidslt6</th>\n",
       "      <th>kidsge6</th>\n",
       "      <th>age</th>\n",
       "      <th>educ</th>\n",
       "      <th>wage</th>\n",
       "      <th>repwage</th>\n",
       "      <th>hushrs</th>\n",
       "      <th>husage</th>\n",
       "      <th>...</th>\n",
       "      <th>faminc</th>\n",
       "      <th>mtr</th>\n",
       "      <th>motheduc</th>\n",
       "      <th>fatheduc</th>\n",
       "      <th>unem</th>\n",
       "      <th>city</th>\n",
       "      <th>exper</th>\n",
       "      <th>nwifeinc</th>\n",
       "      <th>lwage</th>\n",
       "      <th>expersq</th>\n",
       "    </tr>\n",
       "  </thead>\n",
       "  <tbody>\n",
       "    <tr>\n",
       "      <th>0</th>\n",
       "      <td>1</td>\n",
       "      <td>1610</td>\n",
       "      <td>1</td>\n",
       "      <td>0</td>\n",
       "      <td>32</td>\n",
       "      <td>12</td>\n",
       "      <td>3.354</td>\n",
       "      <td>2.65</td>\n",
       "      <td>2708</td>\n",
       "      <td>34</td>\n",
       "      <td>...</td>\n",
       "      <td>16310</td>\n",
       "      <td>0.7215</td>\n",
       "      <td>12</td>\n",
       "      <td>7</td>\n",
       "      <td>5.0</td>\n",
       "      <td>0</td>\n",
       "      <td>14</td>\n",
       "      <td>10.910060</td>\n",
       "      <td>1.210154</td>\n",
       "      <td>196</td>\n",
       "    </tr>\n",
       "    <tr>\n",
       "      <th>1</th>\n",
       "      <td>1</td>\n",
       "      <td>1656</td>\n",
       "      <td>0</td>\n",
       "      <td>2</td>\n",
       "      <td>30</td>\n",
       "      <td>12</td>\n",
       "      <td>1.3889</td>\n",
       "      <td>2.65</td>\n",
       "      <td>2310</td>\n",
       "      <td>30</td>\n",
       "      <td>...</td>\n",
       "      <td>21800</td>\n",
       "      <td>0.6615</td>\n",
       "      <td>7</td>\n",
       "      <td>7</td>\n",
       "      <td>11.0</td>\n",
       "      <td>1</td>\n",
       "      <td>5</td>\n",
       "      <td>19.499980</td>\n",
       "      <td>.3285121</td>\n",
       "      <td>25</td>\n",
       "    </tr>\n",
       "    <tr>\n",
       "      <th>2</th>\n",
       "      <td>1</td>\n",
       "      <td>1980</td>\n",
       "      <td>1</td>\n",
       "      <td>3</td>\n",
       "      <td>35</td>\n",
       "      <td>12</td>\n",
       "      <td>4.5455</td>\n",
       "      <td>4.04</td>\n",
       "      <td>3072</td>\n",
       "      <td>40</td>\n",
       "      <td>...</td>\n",
       "      <td>21040</td>\n",
       "      <td>0.6915</td>\n",
       "      <td>12</td>\n",
       "      <td>7</td>\n",
       "      <td>5.0</td>\n",
       "      <td>0</td>\n",
       "      <td>15</td>\n",
       "      <td>12.039910</td>\n",
       "      <td>1.514138</td>\n",
       "      <td>225</td>\n",
       "    </tr>\n",
       "    <tr>\n",
       "      <th>3</th>\n",
       "      <td>1</td>\n",
       "      <td>456</td>\n",
       "      <td>0</td>\n",
       "      <td>3</td>\n",
       "      <td>34</td>\n",
       "      <td>12</td>\n",
       "      <td>1.0965</td>\n",
       "      <td>3.25</td>\n",
       "      <td>1920</td>\n",
       "      <td>53</td>\n",
       "      <td>...</td>\n",
       "      <td>7300</td>\n",
       "      <td>0.7815</td>\n",
       "      <td>7</td>\n",
       "      <td>7</td>\n",
       "      <td>5.0</td>\n",
       "      <td>0</td>\n",
       "      <td>6</td>\n",
       "      <td>6.799996</td>\n",
       "      <td>.0921233</td>\n",
       "      <td>36</td>\n",
       "    </tr>\n",
       "    <tr>\n",
       "      <th>4</th>\n",
       "      <td>1</td>\n",
       "      <td>1568</td>\n",
       "      <td>1</td>\n",
       "      <td>2</td>\n",
       "      <td>31</td>\n",
       "      <td>14</td>\n",
       "      <td>4.5918</td>\n",
       "      <td>3.60</td>\n",
       "      <td>2000</td>\n",
       "      <td>32</td>\n",
       "      <td>...</td>\n",
       "      <td>27300</td>\n",
       "      <td>0.6215</td>\n",
       "      <td>12</td>\n",
       "      <td>14</td>\n",
       "      <td>9.5</td>\n",
       "      <td>1</td>\n",
       "      <td>7</td>\n",
       "      <td>20.100060</td>\n",
       "      <td>1.524272</td>\n",
       "      <td>49</td>\n",
       "    </tr>\n",
       "    <tr>\n",
       "      <th>5</th>\n",
       "      <td>1</td>\n",
       "      <td>2032</td>\n",
       "      <td>0</td>\n",
       "      <td>0</td>\n",
       "      <td>54</td>\n",
       "      <td>12</td>\n",
       "      <td>4.7421</td>\n",
       "      <td>4.70</td>\n",
       "      <td>1040</td>\n",
       "      <td>57</td>\n",
       "      <td>...</td>\n",
       "      <td>19495</td>\n",
       "      <td>0.6915</td>\n",
       "      <td>14</td>\n",
       "      <td>7</td>\n",
       "      <td>7.5</td>\n",
       "      <td>1</td>\n",
       "      <td>33</td>\n",
       "      <td>9.859054</td>\n",
       "      <td>1.55648</td>\n",
       "      <td>1089</td>\n",
       "    </tr>\n",
       "    <tr>\n",
       "      <th>6</th>\n",
       "      <td>1</td>\n",
       "      <td>1440</td>\n",
       "      <td>0</td>\n",
       "      <td>2</td>\n",
       "      <td>37</td>\n",
       "      <td>16</td>\n",
       "      <td>8.3333</td>\n",
       "      <td>5.95</td>\n",
       "      <td>2670</td>\n",
       "      <td>37</td>\n",
       "      <td>...</td>\n",
       "      <td>21152</td>\n",
       "      <td>0.6915</td>\n",
       "      <td>14</td>\n",
       "      <td>7</td>\n",
       "      <td>5.0</td>\n",
       "      <td>0</td>\n",
       "      <td>11</td>\n",
       "      <td>9.152048</td>\n",
       "      <td>2.12026</td>\n",
       "      <td>121</td>\n",
       "    </tr>\n",
       "    <tr>\n",
       "      <th>7</th>\n",
       "      <td>1</td>\n",
       "      <td>1020</td>\n",
       "      <td>0</td>\n",
       "      <td>0</td>\n",
       "      <td>54</td>\n",
       "      <td>12</td>\n",
       "      <td>7.8431</td>\n",
       "      <td>9.98</td>\n",
       "      <td>4120</td>\n",
       "      <td>53</td>\n",
       "      <td>...</td>\n",
       "      <td>18900</td>\n",
       "      <td>0.6915</td>\n",
       "      <td>3</td>\n",
       "      <td>3</td>\n",
       "      <td>5.0</td>\n",
       "      <td>0</td>\n",
       "      <td>35</td>\n",
       "      <td>10.900040</td>\n",
       "      <td>2.059634</td>\n",
       "      <td>1225</td>\n",
       "    </tr>\n",
       "    <tr>\n",
       "      <th>8</th>\n",
       "      <td>1</td>\n",
       "      <td>1458</td>\n",
       "      <td>0</td>\n",
       "      <td>2</td>\n",
       "      <td>48</td>\n",
       "      <td>12</td>\n",
       "      <td>2.1262</td>\n",
       "      <td>0.00</td>\n",
       "      <td>1995</td>\n",
       "      <td>52</td>\n",
       "      <td>...</td>\n",
       "      <td>20405</td>\n",
       "      <td>0.7515</td>\n",
       "      <td>7</td>\n",
       "      <td>7</td>\n",
       "      <td>3.0</td>\n",
       "      <td>0</td>\n",
       "      <td>24</td>\n",
       "      <td>17.305000</td>\n",
       "      <td>.7543364</td>\n",
       "      <td>576</td>\n",
       "    </tr>\n",
       "    <tr>\n",
       "      <th>9</th>\n",
       "      <td>1</td>\n",
       "      <td>1600</td>\n",
       "      <td>0</td>\n",
       "      <td>2</td>\n",
       "      <td>39</td>\n",
       "      <td>12</td>\n",
       "      <td>4.6875</td>\n",
       "      <td>4.15</td>\n",
       "      <td>2100</td>\n",
       "      <td>43</td>\n",
       "      <td>...</td>\n",
       "      <td>20425</td>\n",
       "      <td>0.6915</td>\n",
       "      <td>7</td>\n",
       "      <td>7</td>\n",
       "      <td>5.0</td>\n",
       "      <td>0</td>\n",
       "      <td>21</td>\n",
       "      <td>12.925000</td>\n",
       "      <td>1.544899</td>\n",
       "      <td>441</td>\n",
       "    </tr>\n",
       "    <tr>\n",
       "      <th>10</th>\n",
       "      <td>1</td>\n",
       "      <td>1969</td>\n",
       "      <td>0</td>\n",
       "      <td>1</td>\n",
       "      <td>33</td>\n",
       "      <td>12</td>\n",
       "      <td>4.063</td>\n",
       "      <td>4.30</td>\n",
       "      <td>2450</td>\n",
       "      <td>34</td>\n",
       "      <td>...</td>\n",
       "      <td>32300</td>\n",
       "      <td>0.5815</td>\n",
       "      <td>12</td>\n",
       "      <td>3</td>\n",
       "      <td>5.0</td>\n",
       "      <td>0</td>\n",
       "      <td>15</td>\n",
       "      <td>24.299950</td>\n",
       "      <td>1.401922</td>\n",
       "      <td>225</td>\n",
       "    </tr>\n",
       "    <tr>\n",
       "      <th>11</th>\n",
       "      <td>1</td>\n",
       "      <td>1960</td>\n",
       "      <td>0</td>\n",
       "      <td>1</td>\n",
       "      <td>42</td>\n",
       "      <td>11</td>\n",
       "      <td>4.5918</td>\n",
       "      <td>4.58</td>\n",
       "      <td>2375</td>\n",
       "      <td>47</td>\n",
       "      <td>...</td>\n",
       "      <td>28700</td>\n",
       "      <td>0.6215</td>\n",
       "      <td>14</td>\n",
       "      <td>7</td>\n",
       "      <td>5.0</td>\n",
       "      <td>0</td>\n",
       "      <td>14</td>\n",
       "      <td>19.700070</td>\n",
       "      <td>1.524272</td>\n",
       "      <td>196</td>\n",
       "    </tr>\n",
       "    <tr>\n",
       "      <th>12</th>\n",
       "      <td>1</td>\n",
       "      <td>240</td>\n",
       "      <td>1</td>\n",
       "      <td>2</td>\n",
       "      <td>30</td>\n",
       "      <td>12</td>\n",
       "      <td>2.0833</td>\n",
       "      <td>0.00</td>\n",
       "      <td>2830</td>\n",
       "      <td>33</td>\n",
       "      <td>...</td>\n",
       "      <td>15500</td>\n",
       "      <td>0.7215</td>\n",
       "      <td>16</td>\n",
       "      <td>16</td>\n",
       "      <td>5.0</td>\n",
       "      <td>0</td>\n",
       "      <td>0</td>\n",
       "      <td>15.000010</td>\n",
       "      <td>.7339532</td>\n",
       "      <td>0</td>\n",
       "    </tr>\n",
       "    <tr>\n",
       "      <th>13</th>\n",
       "      <td>1</td>\n",
       "      <td>997</td>\n",
       "      <td>0</td>\n",
       "      <td>2</td>\n",
       "      <td>43</td>\n",
       "      <td>12</td>\n",
       "      <td>2.2668</td>\n",
       "      <td>3.50</td>\n",
       "      <td>3317</td>\n",
       "      <td>46</td>\n",
       "      <td>...</td>\n",
       "      <td>16860</td>\n",
       "      <td>0.7215</td>\n",
       "      <td>10</td>\n",
       "      <td>10</td>\n",
       "      <td>7.5</td>\n",
       "      <td>1</td>\n",
       "      <td>14</td>\n",
       "      <td>14.600000</td>\n",
       "      <td>.8183691</td>\n",
       "      <td>196</td>\n",
       "    </tr>\n",
       "    <tr>\n",
       "      <th>14</th>\n",
       "      <td>1</td>\n",
       "      <td>1848</td>\n",
       "      <td>0</td>\n",
       "      <td>1</td>\n",
       "      <td>43</td>\n",
       "      <td>10</td>\n",
       "      <td>3.6797</td>\n",
       "      <td>3.38</td>\n",
       "      <td>2024</td>\n",
       "      <td>45</td>\n",
       "      <td>...</td>\n",
       "      <td>31431</td>\n",
       "      <td>0.5815</td>\n",
       "      <td>7</td>\n",
       "      <td>7</td>\n",
       "      <td>7.5</td>\n",
       "      <td>1</td>\n",
       "      <td>6</td>\n",
       "      <td>24.630910</td>\n",
       "      <td>1.302831</td>\n",
       "      <td>36</td>\n",
       "    </tr>\n",
       "    <tr>\n",
       "      <th>15</th>\n",
       "      <td>1</td>\n",
       "      <td>1224</td>\n",
       "      <td>0</td>\n",
       "      <td>3</td>\n",
       "      <td>35</td>\n",
       "      <td>11</td>\n",
       "      <td>1.3472</td>\n",
       "      <td>0.00</td>\n",
       "      <td>1694</td>\n",
       "      <td>38</td>\n",
       "      <td>...</td>\n",
       "      <td>19180</td>\n",
       "      <td>0.7215</td>\n",
       "      <td>16</td>\n",
       "      <td>10</td>\n",
       "      <td>7.5</td>\n",
       "      <td>1</td>\n",
       "      <td>9</td>\n",
       "      <td>17.531030</td>\n",
       "      <td>.2980284</td>\n",
       "      <td>81</td>\n",
       "    </tr>\n",
       "    <tr>\n",
       "      <th>16</th>\n",
       "      <td>1</td>\n",
       "      <td>1400</td>\n",
       "      <td>0</td>\n",
       "      <td>2</td>\n",
       "      <td>43</td>\n",
       "      <td>12</td>\n",
       "      <td>3.2143</td>\n",
       "      <td>4.00</td>\n",
       "      <td>2156</td>\n",
       "      <td>45</td>\n",
       "      <td>...</td>\n",
       "      <td>18600</td>\n",
       "      <td>0.6915</td>\n",
       "      <td>10</td>\n",
       "      <td>7</td>\n",
       "      <td>7.5</td>\n",
       "      <td>1</td>\n",
       "      <td>20</td>\n",
       "      <td>14.099980</td>\n",
       "      <td>1.16761</td>\n",
       "      <td>400</td>\n",
       "    </tr>\n",
       "    <tr>\n",
       "      <th>17</th>\n",
       "      <td>1</td>\n",
       "      <td>640</td>\n",
       "      <td>0</td>\n",
       "      <td>5</td>\n",
       "      <td>39</td>\n",
       "      <td>12</td>\n",
       "      <td>5.175</td>\n",
       "      <td>2.25</td>\n",
       "      <td>2250</td>\n",
       "      <td>40</td>\n",
       "      <td>...</td>\n",
       "      <td>19151</td>\n",
       "      <td>0.7215</td>\n",
       "      <td>12</td>\n",
       "      <td>12</td>\n",
       "      <td>7.5</td>\n",
       "      <td>1</td>\n",
       "      <td>6</td>\n",
       "      <td>15.839000</td>\n",
       "      <td>1.643839</td>\n",
       "      <td>36</td>\n",
       "    </tr>\n",
       "    <tr>\n",
       "      <th>18</th>\n",
       "      <td>1</td>\n",
       "      <td>2000</td>\n",
       "      <td>0</td>\n",
       "      <td>0</td>\n",
       "      <td>45</td>\n",
       "      <td>12</td>\n",
       "      <td>2</td>\n",
       "      <td>2.30</td>\n",
       "      <td>2024</td>\n",
       "      <td>51</td>\n",
       "      <td>...</td>\n",
       "      <td>18100</td>\n",
       "      <td>0.6915</td>\n",
       "      <td>7</td>\n",
       "      <td>7</td>\n",
       "      <td>5.0</td>\n",
       "      <td>1</td>\n",
       "      <td>23</td>\n",
       "      <td>14.100000</td>\n",
       "      <td>.6931472</td>\n",
       "      <td>529</td>\n",
       "    </tr>\n",
       "    <tr>\n",
       "      <th>19</th>\n",
       "      <td>1</td>\n",
       "      <td>1324</td>\n",
       "      <td>0</td>\n",
       "      <td>4</td>\n",
       "      <td>35</td>\n",
       "      <td>12</td>\n",
       "      <td>7.5529</td>\n",
       "      <td>3.94</td>\n",
       "      <td>2123</td>\n",
       "      <td>40</td>\n",
       "      <td>...</td>\n",
       "      <td>20300</td>\n",
       "      <td>0.6915</td>\n",
       "      <td>12</td>\n",
       "      <td>7</td>\n",
       "      <td>5.0</td>\n",
       "      <td>0</td>\n",
       "      <td>9</td>\n",
       "      <td>10.299960</td>\n",
       "      <td>2.021932</td>\n",
       "      <td>81</td>\n",
       "    </tr>\n",
       "  </tbody>\n",
       "</table>\n",
       "<p>20 rows × 22 columns</p>\n",
       "</div>"
      ],
      "text/plain": [
       "    inlf  hours  kidslt6  kidsge6  age  educ    wage  repwage  hushrs  husage  \\\n",
       "0      1   1610        1        0   32    12   3.354     2.65    2708      34   \n",
       "1      1   1656        0        2   30    12  1.3889     2.65    2310      30   \n",
       "2      1   1980        1        3   35    12  4.5455     4.04    3072      40   \n",
       "3      1    456        0        3   34    12  1.0965     3.25    1920      53   \n",
       "4      1   1568        1        2   31    14  4.5918     3.60    2000      32   \n",
       "5      1   2032        0        0   54    12  4.7421     4.70    1040      57   \n",
       "6      1   1440        0        2   37    16  8.3333     5.95    2670      37   \n",
       "7      1   1020        0        0   54    12  7.8431     9.98    4120      53   \n",
       "8      1   1458        0        2   48    12  2.1262     0.00    1995      52   \n",
       "9      1   1600        0        2   39    12  4.6875     4.15    2100      43   \n",
       "10     1   1969        0        1   33    12   4.063     4.30    2450      34   \n",
       "11     1   1960        0        1   42    11  4.5918     4.58    2375      47   \n",
       "12     1    240        1        2   30    12  2.0833     0.00    2830      33   \n",
       "13     1    997        0        2   43    12  2.2668     3.50    3317      46   \n",
       "14     1   1848        0        1   43    10  3.6797     3.38    2024      45   \n",
       "15     1   1224        0        3   35    11  1.3472     0.00    1694      38   \n",
       "16     1   1400        0        2   43    12  3.2143     4.00    2156      45   \n",
       "17     1    640        0        5   39    12   5.175     2.25    2250      40   \n",
       "18     1   2000        0        0   45    12       2     2.30    2024      51   \n",
       "19     1   1324        0        4   35    12  7.5529     3.94    2123      40   \n",
       "\n",
       "    ...  faminc     mtr  motheduc  fatheduc  unem  city  exper   nwifeinc  \\\n",
       "0   ...   16310  0.7215        12         7   5.0     0     14  10.910060   \n",
       "1   ...   21800  0.6615         7         7  11.0     1      5  19.499980   \n",
       "2   ...   21040  0.6915        12         7   5.0     0     15  12.039910   \n",
       "3   ...    7300  0.7815         7         7   5.0     0      6   6.799996   \n",
       "4   ...   27300  0.6215        12        14   9.5     1      7  20.100060   \n",
       "5   ...   19495  0.6915        14         7   7.5     1     33   9.859054   \n",
       "6   ...   21152  0.6915        14         7   5.0     0     11   9.152048   \n",
       "7   ...   18900  0.6915         3         3   5.0     0     35  10.900040   \n",
       "8   ...   20405  0.7515         7         7   3.0     0     24  17.305000   \n",
       "9   ...   20425  0.6915         7         7   5.0     0     21  12.925000   \n",
       "10  ...   32300  0.5815        12         3   5.0     0     15  24.299950   \n",
       "11  ...   28700  0.6215        14         7   5.0     0     14  19.700070   \n",
       "12  ...   15500  0.7215        16        16   5.0     0      0  15.000010   \n",
       "13  ...   16860  0.7215        10        10   7.5     1     14  14.600000   \n",
       "14  ...   31431  0.5815         7         7   7.5     1      6  24.630910   \n",
       "15  ...   19180  0.7215        16        10   7.5     1      9  17.531030   \n",
       "16  ...   18600  0.6915        10         7   7.5     1     20  14.099980   \n",
       "17  ...   19151  0.7215        12        12   7.5     1      6  15.839000   \n",
       "18  ...   18100  0.6915         7         7   5.0     1     23  14.100000   \n",
       "19  ...   20300  0.6915        12         7   5.0     0      9  10.299960   \n",
       "\n",
       "       lwage  expersq  \n",
       "0   1.210154      196  \n",
       "1   .3285121       25  \n",
       "2   1.514138      225  \n",
       "3   .0921233       36  \n",
       "4   1.524272       49  \n",
       "5    1.55648     1089  \n",
       "6    2.12026      121  \n",
       "7   2.059634     1225  \n",
       "8   .7543364      576  \n",
       "9   1.544899      441  \n",
       "10  1.401922      225  \n",
       "11  1.524272      196  \n",
       "12  .7339532        0  \n",
       "13  .8183691      196  \n",
       "14  1.302831       36  \n",
       "15  .2980284       81  \n",
       "16   1.16761      400  \n",
       "17  1.643839       36  \n",
       "18  .6931472      529  \n",
       "19  2.021932       81  \n",
       "\n",
       "[20 rows x 22 columns]"
      ]
     },
     "execution_count": 5,
     "metadata": {},
     "output_type": "execute_result"
    }
   ],
   "source": [
    "df.head(20)"
   ]
  },
  {
   "cell_type": "code",
   "execution_count": 2,
   "metadata": {
    "ExecuteTime": {
     "end_time": "2019-04-14T13:09:55.715554Z",
     "start_time": "2019-04-14T13:09:55.642781Z"
    },
    "hidden": true
   },
   "outputs": [
    {
     "data": {
      "text/html": [
       "<div>\n",
       "<style scoped>\n",
       "    .dataframe tbody tr th:only-of-type {\n",
       "        vertical-align: middle;\n",
       "    }\n",
       "\n",
       "    .dataframe tbody tr th {\n",
       "        vertical-align: top;\n",
       "    }\n",
       "\n",
       "    .dataframe thead th {\n",
       "        text-align: right;\n",
       "    }\n",
       "</style>\n",
       "<table border=\"1\" class=\"dataframe\">\n",
       "  <thead>\n",
       "    <tr style=\"text-align: right;\">\n",
       "      <th></th>\n",
       "      <th>inlf</th>\n",
       "      <th>hours</th>\n",
       "      <th>kidslt6</th>\n",
       "      <th>kidsge6</th>\n",
       "      <th>age</th>\n",
       "      <th>educ</th>\n",
       "      <th>wage</th>\n",
       "      <th>repwage</th>\n",
       "      <th>hushrs</th>\n",
       "      <th>husage</th>\n",
       "      <th>...</th>\n",
       "      <th>faminc</th>\n",
       "      <th>mtr</th>\n",
       "      <th>motheduc</th>\n",
       "      <th>fatheduc</th>\n",
       "      <th>unem</th>\n",
       "      <th>city</th>\n",
       "      <th>exper</th>\n",
       "      <th>nwifeinc</th>\n",
       "      <th>lwage</th>\n",
       "      <th>expersq</th>\n",
       "    </tr>\n",
       "  </thead>\n",
       "  <tbody>\n",
       "    <tr>\n",
       "      <th>0</th>\n",
       "      <td>1</td>\n",
       "      <td>1610</td>\n",
       "      <td>1</td>\n",
       "      <td>0</td>\n",
       "      <td>32</td>\n",
       "      <td>12</td>\n",
       "      <td>3.354</td>\n",
       "      <td>2.65</td>\n",
       "      <td>2708</td>\n",
       "      <td>34</td>\n",
       "      <td>...</td>\n",
       "      <td>16310</td>\n",
       "      <td>0.7215</td>\n",
       "      <td>12</td>\n",
       "      <td>7</td>\n",
       "      <td>5.0</td>\n",
       "      <td>0</td>\n",
       "      <td>14</td>\n",
       "      <td>10.910060</td>\n",
       "      <td>1.210154</td>\n",
       "      <td>196</td>\n",
       "    </tr>\n",
       "    <tr>\n",
       "      <th>1</th>\n",
       "      <td>1</td>\n",
       "      <td>1656</td>\n",
       "      <td>0</td>\n",
       "      <td>2</td>\n",
       "      <td>30</td>\n",
       "      <td>12</td>\n",
       "      <td>1.3889</td>\n",
       "      <td>2.65</td>\n",
       "      <td>2310</td>\n",
       "      <td>30</td>\n",
       "      <td>...</td>\n",
       "      <td>21800</td>\n",
       "      <td>0.6615</td>\n",
       "      <td>7</td>\n",
       "      <td>7</td>\n",
       "      <td>11.0</td>\n",
       "      <td>1</td>\n",
       "      <td>5</td>\n",
       "      <td>19.499980</td>\n",
       "      <td>.3285121</td>\n",
       "      <td>25</td>\n",
       "    </tr>\n",
       "    <tr>\n",
       "      <th>2</th>\n",
       "      <td>1</td>\n",
       "      <td>1980</td>\n",
       "      <td>1</td>\n",
       "      <td>3</td>\n",
       "      <td>35</td>\n",
       "      <td>12</td>\n",
       "      <td>4.5455</td>\n",
       "      <td>4.04</td>\n",
       "      <td>3072</td>\n",
       "      <td>40</td>\n",
       "      <td>...</td>\n",
       "      <td>21040</td>\n",
       "      <td>0.6915</td>\n",
       "      <td>12</td>\n",
       "      <td>7</td>\n",
       "      <td>5.0</td>\n",
       "      <td>0</td>\n",
       "      <td>15</td>\n",
       "      <td>12.039910</td>\n",
       "      <td>1.514138</td>\n",
       "      <td>225</td>\n",
       "    </tr>\n",
       "    <tr>\n",
       "      <th>3</th>\n",
       "      <td>1</td>\n",
       "      <td>456</td>\n",
       "      <td>0</td>\n",
       "      <td>3</td>\n",
       "      <td>34</td>\n",
       "      <td>12</td>\n",
       "      <td>1.0965</td>\n",
       "      <td>3.25</td>\n",
       "      <td>1920</td>\n",
       "      <td>53</td>\n",
       "      <td>...</td>\n",
       "      <td>7300</td>\n",
       "      <td>0.7815</td>\n",
       "      <td>7</td>\n",
       "      <td>7</td>\n",
       "      <td>5.0</td>\n",
       "      <td>0</td>\n",
       "      <td>6</td>\n",
       "      <td>6.799996</td>\n",
       "      <td>.0921233</td>\n",
       "      <td>36</td>\n",
       "    </tr>\n",
       "    <tr>\n",
       "      <th>4</th>\n",
       "      <td>1</td>\n",
       "      <td>1568</td>\n",
       "      <td>1</td>\n",
       "      <td>2</td>\n",
       "      <td>31</td>\n",
       "      <td>14</td>\n",
       "      <td>4.5918</td>\n",
       "      <td>3.60</td>\n",
       "      <td>2000</td>\n",
       "      <td>32</td>\n",
       "      <td>...</td>\n",
       "      <td>27300</td>\n",
       "      <td>0.6215</td>\n",
       "      <td>12</td>\n",
       "      <td>14</td>\n",
       "      <td>9.5</td>\n",
       "      <td>1</td>\n",
       "      <td>7</td>\n",
       "      <td>20.100060</td>\n",
       "      <td>1.524272</td>\n",
       "      <td>49</td>\n",
       "    </tr>\n",
       "  </tbody>\n",
       "</table>\n",
       "<p>5 rows × 22 columns</p>\n",
       "</div>"
      ],
      "text/plain": [
       "   inlf  hours  kidslt6  kidsge6  age  educ    wage  repwage  hushrs  husage  \\\n",
       "0     1   1610        1        0   32    12   3.354     2.65    2708      34   \n",
       "1     1   1656        0        2   30    12  1.3889     2.65    2310      30   \n",
       "2     1   1980        1        3   35    12  4.5455     4.04    3072      40   \n",
       "3     1    456        0        3   34    12  1.0965     3.25    1920      53   \n",
       "4     1   1568        1        2   31    14  4.5918     3.60    2000      32   \n",
       "\n",
       "   ...  faminc     mtr  motheduc  fatheduc  unem  city  exper   nwifeinc  \\\n",
       "0  ...   16310  0.7215        12         7   5.0     0     14  10.910060   \n",
       "1  ...   21800  0.6615         7         7  11.0     1      5  19.499980   \n",
       "2  ...   21040  0.6915        12         7   5.0     0     15  12.039910   \n",
       "3  ...    7300  0.7815         7         7   5.0     0      6   6.799996   \n",
       "4  ...   27300  0.6215        12        14   9.5     1      7  20.100060   \n",
       "\n",
       "      lwage  expersq  \n",
       "0  1.210154      196  \n",
       "1  .3285121       25  \n",
       "2  1.514138      225  \n",
       "3  .0921233       36  \n",
       "4  1.524272       49  \n",
       "\n",
       "[5 rows x 22 columns]"
      ]
     },
     "execution_count": 2,
     "metadata": {},
     "output_type": "execute_result"
    }
   ],
   "source": [
    "df = pd.read_csv('C://Users//Orion//Documents//MS-BGD//Econometrie//Data//swbook1_3e//textfiles/MROZ.raw', sep='\\s+', header= None )\n",
    "df = df.rename(columns={  0: 'inlf',\n",
    " 1: 'hours',\n",
    " 2: 'kidslt6',\n",
    " 3: 'kidsge6',\n",
    " 4: 'age',\n",
    " 5: 'educ',\n",
    " 6: 'wage',\n",
    " 7: 'repwage',\n",
    " 8: 'hushrs',\n",
    " 9: 'husage',\n",
    "10: 'huseduc',\n",
    "11: 'huswage',\n",
    "12: 'faminc',\n",
    "13: 'mtr',\n",
    "14: 'motheduc',\n",
    "15: 'fatheduc',\n",
    "16: 'unem',\n",
    "17: 'city',\n",
    "18: 'exper',\n",
    "19: 'nwifeinc',\n",
    "20: 'lwage',\n",
    "21: 'expersq'})\n",
    "df.head()"
   ]
  },
  {
   "cell_type": "code",
   "execution_count": 11,
   "metadata": {
    "ExecuteTime": {
     "end_time": "2019-04-14T14:00:52.489707Z",
     "start_time": "2019-04-14T14:00:52.474122Z"
    },
    "hidden": true
   },
   "outputs": [
    {
     "name": "stdout",
     "output_type": "stream",
     "text": [
      "Row before filtering: 753\n",
      "Row after keeping only positive values: 428\n"
     ]
    }
   ],
   "source": [
    "print('Row before filtering:', df.shape[0])\n",
    "\n",
    "dec_cols = ['lwage', 'huswage', 'wage']\n",
    "for col in dec_cols:\n",
    "    df[col] = [0. if w=='.' else float(w) for w in df[col]]\n",
    "    \n",
    "df_pos = df[df.wage > 0]\n",
    "print('Row after keeping only positive values:', df_pos.shape[0])"
   ]
  },
  {
   "cell_type": "markdown",
   "metadata": {
    "hidden": true
   },
   "source": [
    "## 2\n",
    "2. Faire les statistiques descriptives du salaire, de l’age et de l’éducation pour l’ensemble des\n",
    "femmes puis, pour les femmes dont le salaire du mari est supérieure à la médiane de\n",
    "l’échantillon, puis pour les femmes dont le salaire du mari est inférieur à la médiane de\n",
    "l’échantillon"
   ]
  },
  {
   "cell_type": "code",
   "execution_count": null,
   "metadata": {
    "hidden": true
   },
   "outputs": [],
   "source": []
  },
  {
   "cell_type": "markdown",
   "metadata": {
    "hidden": true
   },
   "source": [
    "## 3\n",
    "3. Faire l'histogramme de la variable wage. Calculer le log de wage et faire l'histogramme.\n",
    "Comparez les deux histogrammes et commentez"
   ]
  },
  {
   "cell_type": "code",
   "execution_count": null,
   "metadata": {
    "hidden": true
   },
   "outputs": [],
   "source": []
  },
  {
   "cell_type": "markdown",
   "metadata": {
    "hidden": true
   },
   "source": [
    "## 4\n",
    "4. Calculer les corrélations motheduc et fatheduc. Commentez. Il y a-t-il un problème de\n",
    "multicollinéarité si l'on utilise ces variables comme variables explicatives ?"
   ]
  },
  {
   "cell_type": "code",
   "execution_count": null,
   "metadata": {
    "hidden": true
   },
   "outputs": [],
   "source": []
  },
  {
   "cell_type": "markdown",
   "metadata": {
    "hidden": true
   },
   "source": [
    "## 5\n",
    "5. Faites un graphique en nuage de point entre wage et educ, wage et exper, wage et fatheduc.\n",
    "Commentez. S'agit-il d'un effet \"toute chose étant égale par ailleurs ?\""
   ]
  },
  {
   "cell_type": "code",
   "execution_count": null,
   "metadata": {
    "hidden": true
   },
   "outputs": [],
   "source": []
  },
  {
   "cell_type": "markdown",
   "metadata": {
    "hidden": true
   },
   "source": [
    "## 6\n",
    "6. Quelle est l'hypothèse fondamentale qui garanti des estimateurs non biaisés ? Expliquer le\n",
    "biais de variable omise\n"
   ]
  },
  {
   "cell_type": "code",
   "execution_count": null,
   "metadata": {
    "hidden": true
   },
   "outputs": [],
   "source": []
  },
  {
   "cell_type": "markdown",
   "metadata": {
    "hidden": true
   },
   "source": [
    "## 7\n",
    "7. Faire la régression de wage en utilisant les variables explicatives un constante, city, educ,\n",
    "exper, nwifeinc, kidslt6, kidsgt6. Commentez l'histogramme des résidus."
   ]
  },
  {
   "cell_type": "code",
   "execution_count": null,
   "metadata": {
    "hidden": true
   },
   "outputs": [],
   "source": []
  },
  {
   "cell_type": "markdown",
   "metadata": {
    "hidden": true
   },
   "source": [
    "## 8\n",
    "8. Faire la régrssion de lwage sur une constante, city, educ, exper, nwifeinc, kidslt6, kidsgt6.\n",
    "Comparer l’histogramme obtenu à celui de la question 7."
   ]
  },
  {
   "cell_type": "code",
   "execution_count": null,
   "metadata": {
    "hidden": true
   },
   "outputs": [],
   "source": []
  },
  {
   "cell_type": "markdown",
   "metadata": {
    "hidden": true
   },
   "source": [
    "## 9\n",
    "9. Tester l'hypothèse de non significativité de exper avec un seuil de significativité de 1%, 5% et\n",
    "10% (test alternatif des deux côtés). Commentez les p-values."
   ]
  },
  {
   "cell_type": "code",
   "execution_count": null,
   "metadata": {
    "hidden": true
   },
   "outputs": [],
   "source": []
  },
  {
   "cell_type": "markdown",
   "metadata": {
    "hidden": true
   },
   "source": [
    "## 10\n",
    "10. Tester l’hypothèse que le coefficient associé à educ est égal à 10% avec un seuil de\n",
    "significativité de 5% (test à alternatif des deux côtés)"
   ]
  },
  {
   "cell_type": "code",
   "execution_count": null,
   "metadata": {
    "hidden": true
   },
   "outputs": [],
   "source": []
  },
  {
   "cell_type": "markdown",
   "metadata": {
    "hidden": true
   },
   "source": [
    "## 11\n",
    "11. Tester l’hypothèse jointe que le rendement de l’éducation est de 10% et que celui de\n",
    "l’expérience professionnelle est de 5%."
   ]
  },
  {
   "cell_type": "code",
   "execution_count": null,
   "metadata": {
    "hidden": true
   },
   "outputs": [],
   "source": []
  },
  {
   "cell_type": "markdown",
   "metadata": {
    "hidden": true
   },
   "source": [
    "## 12\n",
    "12. De combien augmente le salaire en pourcentage avec 10 années d’expérience ?"
   ]
  },
  {
   "cell_type": "code",
   "execution_count": null,
   "metadata": {
    "hidden": true
   },
   "outputs": [],
   "source": []
  },
  {
   "cell_type": "markdown",
   "metadata": {
    "hidden": true
   },
   "source": [
    "## 13\n",
    "13. Tester l’égalité des coefficients associés aux variables kidsgt6 et kidslt6. Interprétez."
   ]
  },
  {
   "cell_type": "code",
   "execution_count": null,
   "metadata": {
    "hidden": true
   },
   "outputs": [],
   "source": []
  },
  {
   "cell_type": "markdown",
   "metadata": {
    "hidden": true
   },
   "source": [
    "## 14\n",
    "14. En utilisant le modèle de la question 7, faire le test d'hétéroscédasticité de forme linéaire en\n",
    "donnant la p-valeur. Corriger le problème par rapport à la variable la plus importante en\n",
    "utilisant la méthode des MCG. Comparer les écarts-types des coefficients estimés avec ceux\n",
    "obtenus à la question 7. Commenter."
   ]
  },
  {
   "cell_type": "code",
   "execution_count": null,
   "metadata": {
    "hidden": true
   },
   "outputs": [],
   "source": []
  },
  {
   "cell_type": "markdown",
   "metadata": {
    "hidden": true
   },
   "source": [
    "## 15\n",
    "15. Tester le changement de structure de la question 8 entre les femmes qui ont moins de 30\n",
    "ans, entre 30 et 43 ans, plus de 43 ans (3 groupes mutuellement exclusifs). Donnez les pvaleurs."
   ]
  },
  {
   "cell_type": "code",
   "execution_count": null,
   "metadata": {
    "hidden": true
   },
   "outputs": [],
   "source": []
  },
  {
   "cell_type": "markdown",
   "metadata": {
    "hidden": true
   },
   "source": [
    "## 16\n",
    "16. A partir de la variable kidslt6, créer un ensemble de variables binaires pour le nombre\n",
    "d’enfants de moins de 6 ans. Refaire la question 8 avec ces variables et en utilisant comme\n",
    "référence les femmes qui ont des enfants de plus de 6 ans. Ces catégories sont-elles\n",
    "mutuellement exclusives ? Interprétez les paramètres associés aux variables binaires. Faire le\n",
    "test de non significativité de l’ensemble des variables binaires. Donnez les p-valeurs"
   ]
  },
  {
   "cell_type": "code",
   "execution_count": null,
   "metadata": {
    "hidden": true
   },
   "outputs": [],
   "source": []
  },
  {
   "cell_type": "markdown",
   "metadata": {
    "hidden": true
   },
   "source": [
    "## 17\n",
    "17. A partir de l’échantillon global, faire une régression de inlf sur une constante, city, educ, age,\n",
    "kidslt6, kidsgt6. Interprétez les coefficients estimés."
   ]
  },
  {
   "cell_type": "code",
   "execution_count": null,
   "metadata": {
    "hidden": true
   },
   "outputs": [],
   "source": []
  },
  {
   "cell_type": "markdown",
   "metadata": {
    "hidden": true
   },
   "source": [
    "## 18\n",
    "18. Estimer le modèle probit de inlf sur une constante, city, educ, age, kidslt6, kidsgt6. Faire le\n",
    "test de non significativité jointes des coefficients associés à kidslt6 et à kidsgt6. Comparez le\n",
    "résultat du test à celuir de la question 18."
   ]
  },
  {
   "cell_type": "code",
   "execution_count": null,
   "metadata": {
    "hidden": true
   },
   "outputs": [],
   "source": []
  },
  {
   "cell_type": "markdown",
   "metadata": {
    "hidden": true
   },
   "source": [
    "## 19\n",
    "19. Calculer les effets partiels pour l'ensemble des variables explicatives : p(y1)/xk (k = 1, ...,\n",
    "K), où K est le nombre de variables explicatives. Comparer vos résultats à ceux obtenus à la\n",
    "question 17. Commentez."
   ]
  },
  {
   "cell_type": "code",
   "execution_count": null,
   "metadata": {
    "hidden": true
   },
   "outputs": [],
   "source": []
  },
  {
   "cell_type": "markdown",
   "metadata": {
    "hidden": true
   },
   "source": [
    "## 20\n",
    "20. Faire le test de non significativité jointes des coefficients associés à kidslt6 et à kidsgt6 en\n",
    "utilisant la méthode du rapport de vraisemblance. Comparez aux résultazts de la question 18."
   ]
  },
  {
   "cell_type": "code",
   "execution_count": null,
   "metadata": {
    "hidden": true
   },
   "outputs": [],
   "source": []
  },
  {
   "cell_type": "markdown",
   "metadata": {},
   "source": [
    "# Partie 2"
   ]
  },
  {
   "cell_type": "markdown",
   "metadata": {
    "ExecuteTime": {
     "end_time": "2019-04-15T06:26:24.995309Z",
     "start_time": "2019-04-15T06:26:24.962392Z"
    }
   },
   "source": [
    "## 1\n",
    "1. Importer les données du fichier quarterly.xls (corriger le problème éventuel d’observations\n",
    "manquantes)"
   ]
  },
  {
   "cell_type": "code",
   "execution_count": 4,
   "metadata": {
    "ExecuteTime": {
     "end_time": "2019-04-15T06:33:35.130586Z",
     "start_time": "2019-04-15T06:33:35.043818Z"
    }
   },
   "outputs": [
    {
     "data": {
      "text/html": [
       "<div>\n",
       "<style scoped>\n",
       "    .dataframe tbody tr th:only-of-type {\n",
       "        vertical-align: middle;\n",
       "    }\n",
       "\n",
       "    .dataframe tbody tr th {\n",
       "        vertical-align: top;\n",
       "    }\n",
       "\n",
       "    .dataframe thead th {\n",
       "        text-align: right;\n",
       "    }\n",
       "</style>\n",
       "<table border=\"1\" class=\"dataframe\">\n",
       "  <thead>\n",
       "    <tr style=\"text-align: right;\">\n",
       "      <th></th>\n",
       "      <th>FFR</th>\n",
       "      <th>Tbill</th>\n",
       "      <th>Tb1yr</th>\n",
       "      <th>r5</th>\n",
       "      <th>r10</th>\n",
       "      <th>PPINSA</th>\n",
       "      <th>Finished</th>\n",
       "      <th>CPI</th>\n",
       "      <th>CPICORE</th>\n",
       "      <th>M1NSA</th>\n",
       "      <th>M2SA</th>\n",
       "      <th>M2NSA</th>\n",
       "      <th>Unemp</th>\n",
       "      <th>IndProd</th>\n",
       "      <th>RGDP</th>\n",
       "      <th>Potent</th>\n",
       "      <th>Deflator</th>\n",
       "      <th>Curr</th>\n",
       "    </tr>\n",
       "    <tr>\n",
       "      <th>DATE</th>\n",
       "      <th></th>\n",
       "      <th></th>\n",
       "      <th></th>\n",
       "      <th></th>\n",
       "      <th></th>\n",
       "      <th></th>\n",
       "      <th></th>\n",
       "      <th></th>\n",
       "      <th></th>\n",
       "      <th></th>\n",
       "      <th></th>\n",
       "      <th></th>\n",
       "      <th></th>\n",
       "      <th></th>\n",
       "      <th></th>\n",
       "      <th></th>\n",
       "      <th></th>\n",
       "      <th></th>\n",
       "    </tr>\n",
       "  </thead>\n",
       "  <tbody>\n",
       "    <tr>\n",
       "      <th>1960Q1</th>\n",
       "      <td>3.93</td>\n",
       "      <td>3.87</td>\n",
       "      <td>4.57</td>\n",
       "      <td>4.64</td>\n",
       "      <td>4.49</td>\n",
       "      <td>31.67</td>\n",
       "      <td>33.20</td>\n",
       "      <td>29.40</td>\n",
       "      <td>18.92</td>\n",
       "      <td>140.53</td>\n",
       "      <td>896.1</td>\n",
       "      <td>299.40</td>\n",
       "      <td>5.13</td>\n",
       "      <td>23.93</td>\n",
       "      <td>2845.3</td>\n",
       "      <td>2824.2</td>\n",
       "      <td>18.521</td>\n",
       "      <td>31.830</td>\n",
       "    </tr>\n",
       "    <tr>\n",
       "      <th>1960Q2</th>\n",
       "      <td>3.70</td>\n",
       "      <td>2.99</td>\n",
       "      <td>3.87</td>\n",
       "      <td>4.30</td>\n",
       "      <td>4.26</td>\n",
       "      <td>31.73</td>\n",
       "      <td>33.40</td>\n",
       "      <td>29.57</td>\n",
       "      <td>19.00</td>\n",
       "      <td>138.40</td>\n",
       "      <td>903.3</td>\n",
       "      <td>300.03</td>\n",
       "      <td>5.23</td>\n",
       "      <td>23.41</td>\n",
       "      <td>2832.0</td>\n",
       "      <td>2851.2</td>\n",
       "      <td>18.579</td>\n",
       "      <td>31.862</td>\n",
       "    </tr>\n",
       "    <tr>\n",
       "      <th>1960Q3</th>\n",
       "      <td>2.94</td>\n",
       "      <td>2.36</td>\n",
       "      <td>3.07</td>\n",
       "      <td>3.67</td>\n",
       "      <td>3.83</td>\n",
       "      <td>31.63</td>\n",
       "      <td>33.43</td>\n",
       "      <td>29.59</td>\n",
       "      <td>19.07</td>\n",
       "      <td>139.60</td>\n",
       "      <td>919.4</td>\n",
       "      <td>305.50</td>\n",
       "      <td>5.53</td>\n",
       "      <td>23.02</td>\n",
       "      <td>2836.6</td>\n",
       "      <td>2878.7</td>\n",
       "      <td>18.648</td>\n",
       "      <td>32.217</td>\n",
       "    </tr>\n",
       "    <tr>\n",
       "      <th>1960Q4</th>\n",
       "      <td>2.30</td>\n",
       "      <td>2.31</td>\n",
       "      <td>2.99</td>\n",
       "      <td>3.75</td>\n",
       "      <td>3.89</td>\n",
       "      <td>31.70</td>\n",
       "      <td>33.67</td>\n",
       "      <td>29.78</td>\n",
       "      <td>19.14</td>\n",
       "      <td>142.67</td>\n",
       "      <td>932.8</td>\n",
       "      <td>312.30</td>\n",
       "      <td>6.27</td>\n",
       "      <td>22.47</td>\n",
       "      <td>2800.2</td>\n",
       "      <td>2906.7</td>\n",
       "      <td>18.700</td>\n",
       "      <td>32.624</td>\n",
       "    </tr>\n",
       "    <tr>\n",
       "      <th>1961Q1</th>\n",
       "      <td>2.00</td>\n",
       "      <td>2.35</td>\n",
       "      <td>2.87</td>\n",
       "      <td>3.64</td>\n",
       "      <td>3.79</td>\n",
       "      <td>31.80</td>\n",
       "      <td>33.63</td>\n",
       "      <td>29.84</td>\n",
       "      <td>19.17</td>\n",
       "      <td>142.23</td>\n",
       "      <td>948.9</td>\n",
       "      <td>317.10</td>\n",
       "      <td>6.80</td>\n",
       "      <td>22.13</td>\n",
       "      <td>2816.9</td>\n",
       "      <td>2934.8</td>\n",
       "      <td>18.743</td>\n",
       "      <td>32.073</td>\n",
       "    </tr>\n",
       "    <tr>\n",
       "      <th>1961Q2</th>\n",
       "      <td>1.73</td>\n",
       "      <td>2.30</td>\n",
       "      <td>2.94</td>\n",
       "      <td>3.62</td>\n",
       "      <td>3.79</td>\n",
       "      <td>31.47</td>\n",
       "      <td>33.33</td>\n",
       "      <td>29.83</td>\n",
       "      <td>19.23</td>\n",
       "      <td>141.40</td>\n",
       "      <td>966.4</td>\n",
       "      <td>320.97</td>\n",
       "      <td>7.00</td>\n",
       "      <td>23.00</td>\n",
       "      <td>2869.6</td>\n",
       "      <td>2962.9</td>\n",
       "      <td>18.785</td>\n",
       "      <td>32.131</td>\n",
       "    </tr>\n",
       "    <tr>\n",
       "      <th>1961Q3</th>\n",
       "      <td>1.68</td>\n",
       "      <td>2.30</td>\n",
       "      <td>3.01</td>\n",
       "      <td>3.90</td>\n",
       "      <td>3.98</td>\n",
       "      <td>31.50</td>\n",
       "      <td>33.33</td>\n",
       "      <td>29.95</td>\n",
       "      <td>19.32</td>\n",
       "      <td>142.00</td>\n",
       "      <td>982.7</td>\n",
       "      <td>326.50</td>\n",
       "      <td>6.77</td>\n",
       "      <td>23.74</td>\n",
       "      <td>2915.9</td>\n",
       "      <td>2991.3</td>\n",
       "      <td>18.843</td>\n",
       "      <td>32.699</td>\n",
       "    </tr>\n",
       "    <tr>\n",
       "      <th>1961Q4</th>\n",
       "      <td>2.40</td>\n",
       "      <td>2.46</td>\n",
       "      <td>3.10</td>\n",
       "      <td>3.84</td>\n",
       "      <td>3.97</td>\n",
       "      <td>31.53</td>\n",
       "      <td>33.37</td>\n",
       "      <td>29.99</td>\n",
       "      <td>19.37</td>\n",
       "      <td>146.63</td>\n",
       "      <td>1000.0</td>\n",
       "      <td>334.70</td>\n",
       "      <td>6.20</td>\n",
       "      <td>24.57</td>\n",
       "      <td>2975.3</td>\n",
       "      <td>3019.9</td>\n",
       "      <td>18.908</td>\n",
       "      <td>33.421</td>\n",
       "    </tr>\n",
       "    <tr>\n",
       "      <th>1962Q1</th>\n",
       "      <td>2.46</td>\n",
       "      <td>2.72</td>\n",
       "      <td>3.21</td>\n",
       "      <td>3.84</td>\n",
       "      <td>4.02</td>\n",
       "      <td>31.70</td>\n",
       "      <td>33.53</td>\n",
       "      <td>30.11</td>\n",
       "      <td>19.44</td>\n",
       "      <td>146.37</td>\n",
       "      <td>1020.7</td>\n",
       "      <td>341.17</td>\n",
       "      <td>5.63</td>\n",
       "      <td>24.94</td>\n",
       "      <td>3028.7</td>\n",
       "      <td>3048.7</td>\n",
       "      <td>19.020</td>\n",
       "      <td>33.136</td>\n",
       "    </tr>\n",
       "    <tr>\n",
       "      <th>1962Q2</th>\n",
       "      <td>2.61</td>\n",
       "      <td>2.72</td>\n",
       "      <td>3.02</td>\n",
       "      <td>3.63</td>\n",
       "      <td>3.87</td>\n",
       "      <td>31.53</td>\n",
       "      <td>33.43</td>\n",
       "      <td>30.22</td>\n",
       "      <td>19.51</td>\n",
       "      <td>145.33</td>\n",
       "      <td>1042.3</td>\n",
       "      <td>346.23</td>\n",
       "      <td>5.53</td>\n",
       "      <td>25.18</td>\n",
       "      <td>3062.1</td>\n",
       "      <td>3078.0</td>\n",
       "      <td>19.047</td>\n",
       "      <td>33.468</td>\n",
       "    </tr>\n",
       "    <tr>\n",
       "      <th>1962Q3</th>\n",
       "      <td>2.85</td>\n",
       "      <td>2.84</td>\n",
       "      <td>3.18</td>\n",
       "      <td>3.74</td>\n",
       "      <td>3.99</td>\n",
       "      <td>31.70</td>\n",
       "      <td>33.57</td>\n",
       "      <td>30.31</td>\n",
       "      <td>19.58</td>\n",
       "      <td>144.97</td>\n",
       "      <td>1058.5</td>\n",
       "      <td>351.63</td>\n",
       "      <td>5.57</td>\n",
       "      <td>25.45</td>\n",
       "      <td>3090.4</td>\n",
       "      <td>3107.7</td>\n",
       "      <td>19.092</td>\n",
       "      <td>34.060</td>\n",
       "    </tr>\n",
       "    <tr>\n",
       "      <th>1962Q4</th>\n",
       "      <td>2.92</td>\n",
       "      <td>2.81</td>\n",
       "      <td>3.00</td>\n",
       "      <td>3.60</td>\n",
       "      <td>3.90</td>\n",
       "      <td>31.67</td>\n",
       "      <td>33.57</td>\n",
       "      <td>30.38</td>\n",
       "      <td>19.61</td>\n",
       "      <td>149.23</td>\n",
       "      <td>1079.7</td>\n",
       "      <td>361.27</td>\n",
       "      <td>5.53</td>\n",
       "      <td>25.66</td>\n",
       "      <td>3097.9</td>\n",
       "      <td>3137.7</td>\n",
       "      <td>19.152</td>\n",
       "      <td>34.720</td>\n",
       "    </tr>\n",
       "    <tr>\n",
       "      <th>1963Q1</th>\n",
       "      <td>2.97</td>\n",
       "      <td>2.91</td>\n",
       "      <td>3.03</td>\n",
       "      <td>3.64</td>\n",
       "      <td>3.89</td>\n",
       "      <td>31.53</td>\n",
       "      <td>33.37</td>\n",
       "      <td>30.48</td>\n",
       "      <td>19.67</td>\n",
       "      <td>149.53</td>\n",
       "      <td>1103.8</td>\n",
       "      <td>368.97</td>\n",
       "      <td>5.77</td>\n",
       "      <td>26.14</td>\n",
       "      <td>3138.4</td>\n",
       "      <td>3168.4</td>\n",
       "      <td>19.196</td>\n",
       "      <td>34.501</td>\n",
       "    </tr>\n",
       "    <tr>\n",
       "      <th>1963Q2</th>\n",
       "      <td>2.96</td>\n",
       "      <td>2.94</td>\n",
       "      <td>3.14</td>\n",
       "      <td>3.76</td>\n",
       "      <td>3.96</td>\n",
       "      <td>31.50</td>\n",
       "      <td>33.40</td>\n",
       "      <td>30.53</td>\n",
       "      <td>19.74</td>\n",
       "      <td>148.87</td>\n",
       "      <td>1127.8</td>\n",
       "      <td>374.63</td>\n",
       "      <td>5.73</td>\n",
       "      <td>26.83</td>\n",
       "      <td>3177.7</td>\n",
       "      <td>3199.4</td>\n",
       "      <td>19.233</td>\n",
       "      <td>35.034</td>\n",
       "    </tr>\n",
       "    <tr>\n",
       "      <th>1963Q3</th>\n",
       "      <td>3.33</td>\n",
       "      <td>3.29</td>\n",
       "      <td>3.53</td>\n",
       "      <td>3.91</td>\n",
       "      <td>4.03</td>\n",
       "      <td>31.63</td>\n",
       "      <td>33.40</td>\n",
       "      <td>30.72</td>\n",
       "      <td>19.82</td>\n",
       "      <td>150.13</td>\n",
       "      <td>1150.7</td>\n",
       "      <td>382.20</td>\n",
       "      <td>5.50</td>\n",
       "      <td>27.01</td>\n",
       "      <td>3237.6</td>\n",
       "      <td>3230.7</td>\n",
       "      <td>19.272</td>\n",
       "      <td>35.902</td>\n",
       "    </tr>\n",
       "    <tr>\n",
       "      <th>1963Q4</th>\n",
       "      <td>3.45</td>\n",
       "      <td>3.50</td>\n",
       "      <td>3.73</td>\n",
       "      <td>4.01</td>\n",
       "      <td>4.12</td>\n",
       "      <td>31.63</td>\n",
       "      <td>33.47</td>\n",
       "      <td>30.80</td>\n",
       "      <td>19.91</td>\n",
       "      <td>155.17</td>\n",
       "      <td>1173.0</td>\n",
       "      <td>392.50</td>\n",
       "      <td>5.57</td>\n",
       "      <td>27.46</td>\n",
       "      <td>3262.2</td>\n",
       "      <td>3262.5</td>\n",
       "      <td>19.418</td>\n",
       "      <td>36.861</td>\n",
       "    </tr>\n",
       "    <tr>\n",
       "      <th>1964Q1</th>\n",
       "      <td>3.46</td>\n",
       "      <td>3.53</td>\n",
       "      <td>3.83</td>\n",
       "      <td>4.08</td>\n",
       "      <td>4.18</td>\n",
       "      <td>31.67</td>\n",
       "      <td>33.47</td>\n",
       "      <td>30.93</td>\n",
       "      <td>20.00</td>\n",
       "      <td>154.97</td>\n",
       "      <td>1192.6</td>\n",
       "      <td>398.67</td>\n",
       "      <td>5.47</td>\n",
       "      <td>27.84</td>\n",
       "      <td>3335.4</td>\n",
       "      <td>3294.5</td>\n",
       "      <td>19.477</td>\n",
       "      <td>36.697</td>\n",
       "    </tr>\n",
       "    <tr>\n",
       "      <th>1964Q2</th>\n",
       "      <td>3.49</td>\n",
       "      <td>3.48</td>\n",
       "      <td>3.86</td>\n",
       "      <td>4.07</td>\n",
       "      <td>4.20</td>\n",
       "      <td>31.53</td>\n",
       "      <td>33.50</td>\n",
       "      <td>30.98</td>\n",
       "      <td>20.06</td>\n",
       "      <td>153.93</td>\n",
       "      <td>1213.0</td>\n",
       "      <td>403.00</td>\n",
       "      <td>5.20</td>\n",
       "      <td>28.49</td>\n",
       "      <td>3373.7</td>\n",
       "      <td>3326.8</td>\n",
       "      <td>19.529</td>\n",
       "      <td>37.246</td>\n",
       "    </tr>\n",
       "    <tr>\n",
       "      <th>1964Q3</th>\n",
       "      <td>3.46</td>\n",
       "      <td>3.50</td>\n",
       "      <td>3.77</td>\n",
       "      <td>4.05</td>\n",
       "      <td>4.19</td>\n",
       "      <td>31.63</td>\n",
       "      <td>33.57</td>\n",
       "      <td>31.05</td>\n",
       "      <td>20.12</td>\n",
       "      <td>156.27</td>\n",
       "      <td>1240.4</td>\n",
       "      <td>412.03</td>\n",
       "      <td>5.00</td>\n",
       "      <td>28.95</td>\n",
       "      <td>3419.5</td>\n",
       "      <td>3359.6</td>\n",
       "      <td>19.607</td>\n",
       "      <td>38.136</td>\n",
       "    </tr>\n",
       "    <tr>\n",
       "      <th>1964Q4</th>\n",
       "      <td>3.58</td>\n",
       "      <td>3.68</td>\n",
       "      <td>3.93</td>\n",
       "      <td>4.07</td>\n",
       "      <td>4.17</td>\n",
       "      <td>31.70</td>\n",
       "      <td>33.60</td>\n",
       "      <td>31.19</td>\n",
       "      <td>20.18</td>\n",
       "      <td>162.07</td>\n",
       "      <td>1265.8</td>\n",
       "      <td>423.70</td>\n",
       "      <td>4.97</td>\n",
       "      <td>29.39</td>\n",
       "      <td>3429.0</td>\n",
       "      <td>3393.0</td>\n",
       "      <td>19.703</td>\n",
       "      <td>39.059</td>\n",
       "    </tr>\n",
       "  </tbody>\n",
       "</table>\n",
       "</div>"
      ],
      "text/plain": [
       "         FFR  Tbill  Tb1yr    r5   r10  PPINSA  Finished    CPI  CPICORE  \\\n",
       "DATE                                                                       \n",
       "1960Q1  3.93   3.87   4.57  4.64  4.49   31.67     33.20  29.40    18.92   \n",
       "1960Q2  3.70   2.99   3.87  4.30  4.26   31.73     33.40  29.57    19.00   \n",
       "1960Q3  2.94   2.36   3.07  3.67  3.83   31.63     33.43  29.59    19.07   \n",
       "1960Q4  2.30   2.31   2.99  3.75  3.89   31.70     33.67  29.78    19.14   \n",
       "1961Q1  2.00   2.35   2.87  3.64  3.79   31.80     33.63  29.84    19.17   \n",
       "1961Q2  1.73   2.30   2.94  3.62  3.79   31.47     33.33  29.83    19.23   \n",
       "1961Q3  1.68   2.30   3.01  3.90  3.98   31.50     33.33  29.95    19.32   \n",
       "1961Q4  2.40   2.46   3.10  3.84  3.97   31.53     33.37  29.99    19.37   \n",
       "1962Q1  2.46   2.72   3.21  3.84  4.02   31.70     33.53  30.11    19.44   \n",
       "1962Q2  2.61   2.72   3.02  3.63  3.87   31.53     33.43  30.22    19.51   \n",
       "1962Q3  2.85   2.84   3.18  3.74  3.99   31.70     33.57  30.31    19.58   \n",
       "1962Q4  2.92   2.81   3.00  3.60  3.90   31.67     33.57  30.38    19.61   \n",
       "1963Q1  2.97   2.91   3.03  3.64  3.89   31.53     33.37  30.48    19.67   \n",
       "1963Q2  2.96   2.94   3.14  3.76  3.96   31.50     33.40  30.53    19.74   \n",
       "1963Q3  3.33   3.29   3.53  3.91  4.03   31.63     33.40  30.72    19.82   \n",
       "1963Q4  3.45   3.50   3.73  4.01  4.12   31.63     33.47  30.80    19.91   \n",
       "1964Q1  3.46   3.53   3.83  4.08  4.18   31.67     33.47  30.93    20.00   \n",
       "1964Q2  3.49   3.48   3.86  4.07  4.20   31.53     33.50  30.98    20.06   \n",
       "1964Q3  3.46   3.50   3.77  4.05  4.19   31.63     33.57  31.05    20.12   \n",
       "1964Q4  3.58   3.68   3.93  4.07  4.17   31.70     33.60  31.19    20.18   \n",
       "\n",
       "         M1NSA    M2SA   M2NSA  Unemp  IndProd    RGDP  Potent  Deflator  \\\n",
       "DATE                                                                       \n",
       "1960Q1  140.53   896.1  299.40   5.13    23.93  2845.3  2824.2    18.521   \n",
       "1960Q2  138.40   903.3  300.03   5.23    23.41  2832.0  2851.2    18.579   \n",
       "1960Q3  139.60   919.4  305.50   5.53    23.02  2836.6  2878.7    18.648   \n",
       "1960Q4  142.67   932.8  312.30   6.27    22.47  2800.2  2906.7    18.700   \n",
       "1961Q1  142.23   948.9  317.10   6.80    22.13  2816.9  2934.8    18.743   \n",
       "1961Q2  141.40   966.4  320.97   7.00    23.00  2869.6  2962.9    18.785   \n",
       "1961Q3  142.00   982.7  326.50   6.77    23.74  2915.9  2991.3    18.843   \n",
       "1961Q4  146.63  1000.0  334.70   6.20    24.57  2975.3  3019.9    18.908   \n",
       "1962Q1  146.37  1020.7  341.17   5.63    24.94  3028.7  3048.7    19.020   \n",
       "1962Q2  145.33  1042.3  346.23   5.53    25.18  3062.1  3078.0    19.047   \n",
       "1962Q3  144.97  1058.5  351.63   5.57    25.45  3090.4  3107.7    19.092   \n",
       "1962Q4  149.23  1079.7  361.27   5.53    25.66  3097.9  3137.7    19.152   \n",
       "1963Q1  149.53  1103.8  368.97   5.77    26.14  3138.4  3168.4    19.196   \n",
       "1963Q2  148.87  1127.8  374.63   5.73    26.83  3177.7  3199.4    19.233   \n",
       "1963Q3  150.13  1150.7  382.20   5.50    27.01  3237.6  3230.7    19.272   \n",
       "1963Q4  155.17  1173.0  392.50   5.57    27.46  3262.2  3262.5    19.418   \n",
       "1964Q1  154.97  1192.6  398.67   5.47    27.84  3335.4  3294.5    19.477   \n",
       "1964Q2  153.93  1213.0  403.00   5.20    28.49  3373.7  3326.8    19.529   \n",
       "1964Q3  156.27  1240.4  412.03   5.00    28.95  3419.5  3359.6    19.607   \n",
       "1964Q4  162.07  1265.8  423.70   4.97    29.39  3429.0  3393.0    19.703   \n",
       "\n",
       "          Curr  \n",
       "DATE            \n",
       "1960Q1  31.830  \n",
       "1960Q2  31.862  \n",
       "1960Q3  32.217  \n",
       "1960Q4  32.624  \n",
       "1961Q1  32.073  \n",
       "1961Q2  32.131  \n",
       "1961Q3  32.699  \n",
       "1961Q4  33.421  \n",
       "1962Q1  33.136  \n",
       "1962Q2  33.468  \n",
       "1962Q3  34.060  \n",
       "1962Q4  34.720  \n",
       "1963Q1  34.501  \n",
       "1963Q2  35.034  \n",
       "1963Q3  35.902  \n",
       "1963Q4  36.861  \n",
       "1964Q1  36.697  \n",
       "1964Q2  37.246  \n",
       "1964Q3  38.136  \n",
       "1964Q4  39.059  "
      ]
     },
     "execution_count": 4,
     "metadata": {},
     "output_type": "execute_result"
    }
   ],
   "source": [
    "df = pd.read_excel('quarterly.xls', sep='\\s+', index_col='DATE', parse_dates=True)\n",
    "df.index = df.index.to_period(\"Q\")\n",
    "df.head(20)"
   ]
  },
  {
   "cell_type": "code",
   "execution_count": 5,
   "metadata": {
    "ExecuteTime": {
     "end_time": "2019-04-15T07:58:39.083624Z",
     "start_time": "2019-04-15T07:58:39.071695Z"
    }
   },
   "outputs": [
    {
     "name": "stdout",
     "output_type": "stream",
     "text": [
      "Is there null values: False\n",
      "Is there na values: False\n"
     ]
    }
   ],
   "source": [
    "print('Is there null values:', df.isnull().values.any())\n",
    "print('Is there na values:', df.isna().values.any())"
   ]
  },
  {
   "cell_type": "markdown",
   "metadata": {},
   "source": [
    "## 2\n",
    "2. Calculer inf, le taux d’inflation à partir de la variable CPI. Faire un graphique dans le temps de\n",
    "inf. Commentez."
   ]
  },
  {
   "cell_type": "code",
   "execution_count": 6,
   "metadata": {},
   "outputs": [],
   "source": [
    "df['Inf'] = ((df.CPI-df.CPI.shift())/(df.CPI.shift()))*100"
   ]
  },
  {
   "cell_type": "code",
   "execution_count": 7,
   "metadata": {},
   "outputs": [
    {
     "data": {
      "text/html": [
       "<div>\n",
       "<style scoped>\n",
       "    .dataframe tbody tr th:only-of-type {\n",
       "        vertical-align: middle;\n",
       "    }\n",
       "\n",
       "    .dataframe tbody tr th {\n",
       "        vertical-align: top;\n",
       "    }\n",
       "\n",
       "    .dataframe thead th {\n",
       "        text-align: right;\n",
       "    }\n",
       "</style>\n",
       "<table border=\"1\" class=\"dataframe\">\n",
       "  <thead>\n",
       "    <tr style=\"text-align: right;\">\n",
       "      <th></th>\n",
       "      <th>CPI</th>\n",
       "      <th>Inf</th>\n",
       "    </tr>\n",
       "    <tr>\n",
       "      <th>DATE</th>\n",
       "      <th></th>\n",
       "      <th></th>\n",
       "    </tr>\n",
       "  </thead>\n",
       "  <tbody>\n",
       "    <tr>\n",
       "      <th>1960Q1</th>\n",
       "      <td>29.40</td>\n",
       "      <td>NaN</td>\n",
       "    </tr>\n",
       "    <tr>\n",
       "      <th>1960Q2</th>\n",
       "      <td>29.57</td>\n",
       "      <td>0.578231</td>\n",
       "    </tr>\n",
       "    <tr>\n",
       "      <th>1960Q3</th>\n",
       "      <td>29.59</td>\n",
       "      <td>0.067636</td>\n",
       "    </tr>\n",
       "    <tr>\n",
       "      <th>1960Q4</th>\n",
       "      <td>29.78</td>\n",
       "      <td>0.642109</td>\n",
       "    </tr>\n",
       "    <tr>\n",
       "      <th>1961Q1</th>\n",
       "      <td>29.84</td>\n",
       "      <td>0.201478</td>\n",
       "    </tr>\n",
       "  </tbody>\n",
       "</table>\n",
       "</div>"
      ],
      "text/plain": [
       "          CPI       Inf\n",
       "DATE                   \n",
       "1960Q1  29.40       NaN\n",
       "1960Q2  29.57  0.578231\n",
       "1960Q3  29.59  0.067636\n",
       "1960Q4  29.78  0.642109\n",
       "1961Q1  29.84  0.201478"
      ]
     },
     "execution_count": 7,
     "metadata": {},
     "output_type": "execute_result"
    }
   ],
   "source": [
    "df[['CPI',\"Inf\"]].head()"
   ]
  },
  {
   "cell_type": "code",
   "execution_count": 8,
   "metadata": {
    "scrolled": true
   },
   "outputs": [
    {
     "data": {
      "image/png": "[encoded data removed]",
      "text/plain": [
       "<Figure size 1440x576 with 1 Axes>"
      ]
     },
     "metadata": {
      "needs_background": "light"
     },
     "output_type": "display_data"
    }
   ],
   "source": [
    "years = mdates.YearLocator()   # every year\n",
    "months = mdates.MonthLocator((1,4,7,10))  # every month\n",
    "yearsFmt = mdates.DateFormatter('%Y')\n",
    "\n",
    "# Load a numpy record array from yahoo csv data with fields date, open, close,\n",
    "# volume, adj_close from the mpl-data/example directory. The record array\n",
    "# stores the date as an np.datetime64 with a day unit ('D') in the date column.\n",
    "\n",
    "fig, ax = plt.subplots(figsize=(20,8))\n",
    "ax.bar(df.index.values.astype('datetime64[D]'),df['Inf'].values, width = 100)\n",
    "\n",
    "# format the ticks\n",
    "ax.xaxis.set_major_locator(years)\n",
    "ax.xaxis.set_major_formatter(yearsFmt)\n",
    "ax.xaxis.set_minor_locator(months)\n",
    "\n",
    "# round to nearest years...\n",
    "datemin = np.datetime64(df.index.values.astype('datetime64[D]')[0], 'Y')\n",
    "datemax = np.datetime64(df.index.values.astype('datetime64[D]')[-1], 'Y') + np.timedelta64(1, 'Y')\n",
    "ax.set_xlim(datemin, datemax)\n",
    "\n",
    "ax.grid(True)\n",
    "\n",
    "# rotates and right aligns the x labels, and moves the bottom of the\n",
    "# axes up to make room for them\n",
    "fig.autofmt_xdate()\n",
    "ax.tick_params(labelrotation=45)\n",
    "plt.title(\"Inflation Rate along the years\")\n",
    "plt.xlabel('Year')\n",
    "plt.ylabel(\"Inflation rate (in %)\")\n",
    "plt.show()"
   ]
  },
  {
   "cell_type": "code",
   "execution_count": null,
   "metadata": {
    "ExecuteTime": {
     "end_time": "2019-04-15T09:39:52.086387Z",
     "start_time": "2019-04-15T09:39:52.082398Z"
    }
   },
   "outputs": [],
   "source": [
    "# Comment"
   ]
  },
  {
   "cell_type": "markdown",
   "metadata": {},
   "source": [
    "## 3 Interpréter l'autocorrélogramme et l'autocorrélogrammes partiels de inf. Quelle est la différence entre ces deux graphiques ?"
   ]
  },
  {
   "cell_type": "code",
   "execution_count": 10,
   "metadata": {
    "ExecuteTime": {
     "end_time": "2019-04-15T08:18:21.583036Z",
     "start_time": "2019-04-15T08:18:21.072429Z"
    }
   },
   "outputs": [
    {
     "data": {
      "image/png": "[encoded data removed]",
      "text/plain": [
       "<Figure size 1224x504 with 2 Axes>"
      ]
     },
     "metadata": {
      "needs_background": "light"
     },
     "output_type": "display_data"
    }
   ],
   "source": [
    "# import statsmodels.api as sm\n",
    "fig, axes = plt.subplots(1, 2, figsize=(17,7))\n",
    "fig = plot_acf(df['Inf'].values[1:],ax=axes[0], lags = 50)\n",
    "axes[0].set_title(\"Autocorrelogramme of inf\")\n",
    "fig = plot_pacf(df['Inf'].values[1:], ax=axes[1], lags = 50)\n",
    "axes[1].set_title(\"Partial autocorrelogramme of inf\")\n",
    "plt.show()"
   ]
  },
  {
   "cell_type": "code",
   "execution_count": 345,
   "metadata": {},
   "outputs": [],
   "source": [
    "# Comment difference"
   ]
  },
  {
   "cell_type": "markdown",
   "metadata": {},
   "source": [
    "## 4. Quelle est la différence entre la stationnarité et l'ergodicité ? Pourquoi a-t-on besoin de ces deux conditions. Expliquez le terme \"spurious regression\"."
   ]
  },
  {
   "cell_type": "markdown",
   "metadata": {},
   "source": [
    "A process is said \"ergodic\" when the initial condition does not influence the inference\n",
    "\n",
    "A process is said \"stationary\" if f(Z1,Z2,..,Zt) and f(Z1+k,Z2+k,..,Zt+k) follows the same law. We talk of weak stationarity when the mean and variance is finite and constant through time but also when the autocorellation between Zt and ZT-k does not depend of the time shift.\n",
    "\n",
    "We need ergodicity and stationarity (and finite variance) to make inference using the data\n",
    "\n",
    "\"spurious regression\" is the situation were we use the properties of a stationary serie on a non stationary one. It gives fake results, often too optimistic and can make think of correlation between variables when there is none."
   ]
  },
  {
   "cell_type": "markdown",
   "metadata": {},
   "source": [
    "## 5 .Proposer une modélisation AR(p) de inf, en utilisant tous les outils vus au cours"
   ]
  },
  {
   "cell_type": "markdown",
   "metadata": {},
   "source": [
    "A revoir"
   ]
  },
  {
   "cell_type": "code",
   "execution_count": 11,
   "metadata": {
    "ExecuteTime": {
     "end_time": "2019-04-15T08:51:01.597585Z",
     "start_time": "2019-04-15T08:51:01.578668Z"
    }
   },
   "outputs": [
    {
     "data": {
      "text/plain": [
       "\"ar=sm.tsa.ar_model.AR(np.array(df_inf)).fit()\\nprint ('AIC: ',ar.aic)\\nprint ('BIC: ', ar.bic)\\nprint ('params: ',ar.params)\""
      ]
     },
     "execution_count": 11,
     "metadata": {},
     "output_type": "execute_result"
    }
   ],
   "source": [
    "# test\n",
    "\"\"\"ar=sm.tsa.ar_model.AR(np.array(df_inf)).fit()\n",
    "print ('AIC: ',ar.aic)\n",
    "print ('BIC: ', ar.bic)\n",
    "print ('params: ',ar.params)\"\"\""
   ]
  },
  {
   "cell_type": "code",
   "execution_count": 13,
   "metadata": {
    "ExecuteTime": {
     "end_time": "2019-04-15T08:50:28.871071Z",
     "start_time": "2019-04-15T08:50:28.814253Z"
    }
   },
   "outputs": [
    {
     "name": "stdout",
     "output_type": "stream",
     "text": [
      "Degree minimum for bic:  3\n",
      "Degree minimum for aic:  3\n",
      "Degree selected:  3 , method: aic\n"
     ]
    }
   ],
   "source": [
    "list_bic = []\n",
    "list_aic = []\n",
    "lag = 40\n",
    "\n",
    "for i in range(0, lag):\n",
    "    res = sm.tsa.ar_model.AR(df['Inf'][1:]).fit(i)\n",
    "    list_aic.append(res.aic)\n",
    "    list_bic.append(res.bic)\n",
    "\n",
    "min_degree_aic = list_aic.index(min(list_aic))\n",
    "min_degree_bic = list_bic.index(min(list_bic))\n",
    "degree =  min([min_degree_aic, min_degree_bic])\n",
    "print('Degree minimum for bic: ', min_degree_bic)\n",
    "print('Degree minimum for aic: ', min_degree_aic)\n",
    "print('Degree selected: ', degree, ', method:', 'bic' if min_degree_bic < min_degree_aic else 'aic')\n"
   ]
  },
  {
   "cell_type": "markdown",
   "metadata": {},
   "source": [
    "## 6 Estimer le modèle de la courbe de Philips qui explique le taux de chômage (Unemp) en fonction du taux d’inflation courant et une constante."
   ]
  },
  {
   "cell_type": "code",
   "execution_count": 36,
   "metadata": {},
   "outputs": [
    {
     "data": {
      "image/png": "[encoded data removed]",
      "text/plain": [
       "<Figure size 1440x360 with 1 Axes>"
      ]
     },
     "metadata": {},
     "output_type": "display_data"
    }
   ],
   "source": [
    "# Plot Phillips \n",
    "plt.figure(figsize = (20,5))\n",
    "sns.regplot(x= df[\"Unemp\"].shift() , y=df[\"Inf\"].values, color= sns.xkcd_rgb['pale red'])\n",
    "# plt.scatter(df[\"Unemp\"].shift(), df[\"Inf\"].values, color = sns.xkcd_rgb['pale red'], s = 10)\n",
    "plt.ylabel(\"Inflation rate (in %)\")\n",
    "plt.xlabel(\"Unemployement rate (in %)\")\n",
    "plt.title(\"Inflation plot with Unemployement rate \")\n",
    "plt.show()"
   ]
  },
  {
   "cell_type": "code",
   "execution_count": 248,
   "metadata": {
    "ExecuteTime": {
     "end_time": "2019-04-15T09:28:24.259224Z",
     "start_time": "2019-04-15T09:28:24.244267Z"
    }
   },
   "outputs": [
    {
     "name": "stdout",
     "output_type": "stream",
     "text": [
      "Beta  [6.07081892 0.01590799]\n",
      "Sigma 2  2.614191077769387\n",
      "Standart deviation  [0.18037738 0.14405741]\n",
      "Tstat  [33.65620922  0.11042811]\n"
     ]
    }
   ],
   "source": [
    "# Test 1\n",
    "n,p = df.shape\n",
    "const = np.ones((n-1,1))\n",
    "X = np.c_[const,df_inf['inf'].values]\n",
    "Y = df['Unemp'].values[1:]\n",
    "beta, u, sig2, std, t, SSR, p_value = compute_pvalue_stat(X, Y, 1)\n",
    "print(\"Beta \", beta)\n",
    "print(\"Sigma 2 \", sig2)\n",
    "print(\"Standart deviation \", std)\n",
    "print(\"Tstat \", t)\n",
    "\n",
    "\n",
    "#(beta, sig2, std, t, SSR, p_value)"
   ]
  },
  {
   "cell_type": "code",
   "execution_count": 250,
   "metadata": {
    "ExecuteTime": {
     "end_time": "2019-04-15T10:02:45.499883Z",
     "start_time": "2019-04-15T10:02:45.487915Z"
    }
   },
   "outputs": [
    {
     "name": "stdout",
     "output_type": "stream",
     "text": [
      "Beta  [0.         0.01590799]\n",
      "Intercept  6.070818917241153\n"
     ]
    }
   ],
   "source": [
    "lr = LinearRegression()\n",
    "lr.fit(X, Y)\n",
    "print(\"Beta \", lr.coef_)\n",
    "print(\"Intercept \", lr.intercept_)\n"
   ]
  },
  {
   "cell_type": "markdown",
   "metadata": {},
   "source": [
    "## 7\n",
    "7. Tester l’autocorrélation des erreurs."
   ]
  },
  {
   "cell_type": "code",
   "execution_count": 252,
   "metadata": {
    "ExecuteTime": {
     "end_time": "2019-04-15T10:04:51.171932Z",
     "start_time": "2019-04-15T10:04:50.573562Z"
    }
   },
   "outputs": [
    {
     "data": {
      "image/png": "[encoded data removed]",
      "text/plain": [
       "<Figure size 1224x288 with 2 Axes>"
      ]
     },
     "metadata": {},
     "output_type": "display_data"
    }
   ],
   "source": [
    "\n",
    "residuals = Y - lr.predict(X)\n",
    "\n",
    "fig, axes = plt.subplots(1, 2, figsize=(17,4))\n",
    "fig = sm.graphics.tsaplots.plot_acf(residuals,ax=axes[0])\n",
    "axes[0].set_title(\"Autocorrelogramme of residuals\")\n",
    "fig = sm.graphics.tsaplots.plot_pacf(residuals, ax=axes[1])\n",
    "axes[1].set_title(\"Partial autocorrelogramme of residuals\")\n",
    "plt.show()"
   ]
  },
  {
   "cell_type": "code",
   "execution_count": 253,
   "metadata": {
    "ExecuteTime": {
     "end_time": "2019-04-15T10:04:51.811259Z",
     "start_time": "2019-04-15T10:04:51.445202Z"
    }
   },
   "outputs": [
    {
     "data": {
      "image/png": "[encoded data removed]",
      "text/plain": [
       "<Figure size 1224x504 with 2 Axes>"
      ]
     },
     "metadata": {},
     "output_type": "display_data"
    }
   ],
   "source": [
    "_, axes = plt.subplots(1, 2, figsize=(17,7))\n",
    "\n",
    "axes[0].plot(sm.tsa.stattools.acf(residuals, nlags = 100))\n",
    "axes[0].set_ylabel(\"autocorrelation\")\n",
    "axes[0].set_title(\"Autocorrelogramme of residuals\")\n",
    "axes[0].set_xlabel(\"Latency\")\n",
    "\n",
    "axes[1].plot(sm.tsa.stattools.pacf(residuals))\n",
    "axes[1].set_ylabel(\"autocorrelation\")\n",
    "axes[1].set_title(\"Partial autocorrelogramme of residuals\")\n",
    "axes[1].set_xlabel(\"Latency\")\n",
    "\n",
    "plt.show()"
   ]
  },
  {
   "cell_type": "code",
   "execution_count": 256,
   "metadata": {
    "ExecuteTime": {
     "end_time": "2019-04-17T06:40:57.886120Z",
     "start_time": "2019-04-17T06:40:57.856206Z"
    }
   },
   "outputs": [
    {
     "data": {
      "text/plain": [
       "array([[2.99341042e-15, 3.74811368e-15],\n",
       "       [1.91885283e-17, 2.40263698e-17]])"
      ]
     },
     "execution_count": 256,
     "metadata": {},
     "output_type": "execute_result"
    }
   ],
   "source": [
    "# X_res = np.c_[np.ones((X.shape[0],1)),X]\n",
    "beta_res, u_res, sig2_res, std_res, t_res, SSR_res, p_valu_res = compute_pvalue_stat(X, pd.DataFrame(residuals), 2)\n",
    "t_res\n",
    "\n",
    "\n",
    "# Comment"
   ]
  },
  {
   "cell_type": "markdown",
   "metadata": {},
   "source": [
    "## 8\n",
    "8. Corriger l’autocorrélation des erreurs par la méthode vue en cours."
   ]
  },
  {
   "cell_type": "code",
   "execution_count": 259,
   "metadata": {
    "ExecuteTime": {
     "end_time": "2019-04-15T12:34:30.946066Z",
     "start_time": "2019-04-15T12:34:30.921471Z"
    }
   },
   "outputs": [],
   "source": [
    "X_corrected = X.copy()\n",
    "n, k = X_corrected.shape\n",
    "for i in range(k):\n",
    "    X_corrected[:,i] = X_corrected[:,i]/np.sqrt(df[\"Unemp\"].iloc[1:])\n"
   ]
  },
  {
   "cell_type": "code",
   "execution_count": 261,
   "metadata": {
    "ExecuteTime": {
     "end_time": "2019-04-15T12:35:07.704002Z",
     "start_time": "2019-04-15T12:35:06.980964Z"
    }
   },
   "outputs": [
    {
     "data": {
      "image/png": "[encoded data removed]",
      "text/plain": [
       "<Figure size 1224x288 with 2 Axes>"
      ]
     },
     "metadata": {},
     "output_type": "display_data"
    }
   ],
   "source": [
    "\n",
    "residuals = Y - lr.predict(X_corrected)\n",
    "\n",
    "fig, axes = plt.subplots(1, 2, figsize=(17,4))\n",
    "fig = sm.graphics.tsaplots.plot_acf(residuals,ax=axes[0])\n",
    "axes[0].set_title(\"Autocorrelogramme of residuals\")\n",
    "fig = sm.graphics.tsaplots.plot_pacf(residuals, ax=axes[1])\n",
    "axes[1].set_title(\"Partial autocorrelogramme of residuals\")\n",
    "plt.show()"
   ]
  },
  {
   "cell_type": "code",
   "execution_count": 262,
   "metadata": {
    "ExecuteTime": {
     "end_time": "2019-04-15T12:35:08.477611Z",
     "start_time": "2019-04-15T12:35:08.020703Z"
    }
   },
   "outputs": [
    {
     "data": {
      "image/png": "[encoded data removed]",
      "text/plain": [
       "<Figure size 1224x504 with 2 Axes>"
      ]
     },
     "metadata": {},
     "output_type": "display_data"
    }
   ],
   "source": [
    "_, axes = plt.subplots(1, 2, figsize=(17,7))\n",
    "\n",
    "axes[0].plot(sm.tsa.stattools.acf(residuals, nlags = 120))\n",
    "axes[0].set_ylabel(\"autocorrelation\")\n",
    "axes[0].set_title(\"Autocorrelogramme of residuals\")\n",
    "axes[0].set_xlabel(\"Latency\")\n",
    "\n",
    "axes[1].plot(sm.tsa.stattools.pacf(residuals))\n",
    "axes[1].set_ylabel(\"autocorrelation\")\n",
    "axes[1].set_title(\"Partial autocorrelogramme of residuals\")\n",
    "axes[1].set_xlabel(\"Latency\")\n",
    "\n",
    "plt.show()"
   ]
  },
  {
   "cell_type": "markdown",
   "metadata": {},
   "source": [
    "## 9\n",
    "9. Tester la stabilité de la relation chômage-inflation sur deux sous-périodes de taille identique."
   ]
  },
  {
   "cell_type": "code",
   "execution_count": null,
   "metadata": {
    "ExecuteTime": {
     "end_time": "2019-04-15T12:57:44.429290Z",
     "start_time": "2019-04-15T12:57:44.383321Z"
    }
   },
   "outputs": [],
   "source": []
  },
  {
   "cell_type": "code",
   "execution_count": 263,
   "metadata": {},
   "outputs": [],
   "source": [
    "def compute_pvalue_stat(X,y,nbVar):\n",
    "    n,k = X.shape\n",
    "    matriceGram = np.dot(np.transpose(X),X)\n",
    "    matriceGram_inv = np.linalg.inv(matriceGram)\n",
    "    beta = np.dot(np.dot(matriceGram_inv,np.transpose(X)),y)\n",
    "    u = y - np.dot(X,beta)\n",
    "    sig2 = np.dot(u.T,u)/(n-(nbVar)) #+1\n",
    "    std = np.sqrt(np.diag(sig2*matriceGram_inv))\n",
    "    t = beta/std\n",
    "    SSR = np.dot(u.T,u)\n",
    "    p_distrib = stats.t.cdf(abs(t) , n-(nbVar)) #+1\n",
    "    p_value = (1 - p_distrib) * 2\n",
    "    return beta, u, sig2, std, t, SSR, p_value"
   ]
  },
  {
   "cell_type": "code",
   "execution_count": 268,
   "metadata": {
    "ExecuteTime": {
     "end_time": "2019-04-15T13:55:32.969933Z",
     "start_time": "2019-04-15T13:55:32.953970Z"
    }
   },
   "outputs": [],
   "source": [
    "#X =  np.c_[const,df[[\"CPI\",\"Unemp\"]].values]\n",
    "n,k = df.shape\n",
    "const = np.ones((n,1))\n",
    "\n",
    "X0 = np.c_[const,df[\"CPI\"].values]\n",
    "X1 = np.c_[const]\n",
    "beta_OLS, u_OLS, sig2_OLS, std_OLS, t_OLS, SSR_OLS, p_value_OLS = compute_pvalue_stat(X0, df[\"Unemp\"], 2)\n",
    "beta_OLS2, u_OLS2, sig2_OLS2, std_OLS2, t_OLS2, SSR_OLS2, p_value_OLS2 = compute_pvalue_stat(X1, df[\"Unemp\"], 2)\n"
   ]
  },
  {
   "cell_type": "code",
   "execution_count": 128,
   "metadata": {
    "ExecuteTime": {
     "end_time": "2019-04-15T13:55:33.580856Z",
     "start_time": "2019-04-15T13:55:33.571874Z"
    }
   },
   "outputs": [
    {
     "name": "stdout",
     "output_type": "stream",
     "text": [
      "F:  8.403016350781146e+16\n"
     ]
    }
   ],
   "source": []
  },
  {
   "cell_type": "markdown",
   "metadata": {},
   "source": [
    "## 10\n",
    "10. Faites les tests changement de structure de Chow et détecter le point de rupture."
   ]
  },
  {
   "cell_type": "code",
   "execution_count": 269,
   "metadata": {},
   "outputs": [],
   "source": [
    "def compute_pvalue_stat(X,y,nbVar):\n",
    "    n,k = X.shape\n",
    "    matriceGram = np.dot(np.transpose(X),X)\n",
    "    matriceGram_inv = np.linalg.inv(matriceGram)\n",
    "    beta = np.dot(np.dot(matriceGram_inv,np.transpose(X)),y)\n",
    "    u = y - np.dot(X,beta)\n",
    "    sig2 = np.dot(u.T,u)/(n-(nbVar)) #+1\n",
    "    std = np.sqrt(np.diag(sig2*matriceGram_inv))\n",
    "    t = beta/std\n",
    "    SSR = np.dot(u.T,u)\n",
    "    p_distrib = stats.t.cdf(abs(t) , n-(nbVar)) #+1\n",
    "    p_value = (1 - p_distrib) * 2\n",
    "    return beta, u, sig2, std, t, SSR, p_value"
   ]
  },
  {
   "cell_type": "code",
   "execution_count": 271,
   "metadata": {},
   "outputs": [],
   "source": [
    "#X =  np.c_[const,df[[\"CPI\",\"Unemp\"]].values]\n",
    "n,k = df.shape\n",
    "const = np.ones((n,1))\n",
    "\n",
    "X0 = np.c_[const,df[\"CPI\"].values]\n",
    "X1 = np.c_[const]\n",
    "beta_OLS, u_OLS, sig2_OLS, std_OLS, t_OLS, SSR_OLS, p_value_OLS = compute_pvalue_stat(X0, df[\"Unemp\"], 2)\n",
    "beta_OLS2, u_OLS2, sig2_OLS2, std_OLS2, t_OLS2, SSR_OLS2, p_value_OLS2 = compute_pvalue_stat(X1, df[\"Unemp\"], 2)\n"
   ]
  },
  {
   "cell_type": "code",
   "execution_count": 277,
   "metadata": {},
   "outputs": [
    {
     "name": "stdout",
     "output_type": "stream",
     "text": [
      "F:  9.692328727065055\n"
     ]
    }
   ],
   "source": [
    "ssr0 = residuals.dot(u_OLS[1:])\n",
    "ddl0 = X0.shape[0] - X0.shape[1]\n",
    "# modèle contraint\n",
    "ssr1 = residuals.dot(u_OLS2[1:])\n",
    "ddl1 = X1.shape[0] - X1.shape[1]\n",
    "\n",
    "F = ((ssr1-ssr0)/ssr0)*(ddl0/(ddl1-ddl0))\n",
    "print(\"F: \", F)"
   ]
  },
  {
   "cell_type": "code",
   "execution_count": null,
   "metadata": {},
   "outputs": [],
   "source": [
    "##"
   ]
  },
  {
   "cell_type": "markdown",
   "metadata": {},
   "source": [
    "## 11\n",
    "11. Estimer la courbe de Philips en supprimant l'inflation courante des variables explicatives mais\n",
    "en ajoutant les délais d’ordre 1, 2, 3 et 4 de l’inflation et du chômage. Faire le test de\n",
    "Granger de non causalité de l’inflation sur le chômage. Donnez la p-valeur."
   ]
  },
  {
   "cell_type": "code",
   "execution_count": 349,
   "metadata": {},
   "outputs": [],
   "source": [
    "import statsmodels.formula.api as smf\n",
    "\n",
    "cpi_lag1 = df[\"CPI\"].shift(1).reset_index(drop=True)\n",
    "cpi_lag2 = df[\"CPI\"].shift(2).reset_index(drop=True)\n",
    "cpi_lag3 = df[\"CPI\"].shift(3).reset_index(drop=True)\n",
    "cpi_lag4 = df[\"CPI\"].shift(4).reset_index(drop=True)\n",
    "\n",
    "unem_lag1 = df[\"Unemp\"].shift(1).reset_index(drop=True)\n",
    "unem_lag2 = df[\"Unemp\"].shift(2).reset_index(drop=True)\n",
    "unem_lag3 = df[\"Unemp\"].shift(3).reset_index(drop=True)\n",
    "unem_lag4 = df[\"Unemp\"].shift(4).reset_index(drop=True)\n",
    "\n",
    "y = df[\"Unemp\"].reset_index(drop=True)\n",
    "## A VERIF LE Y"
   ]
  },
  {
   "cell_type": "code",
   "execution_count": 350,
   "metadata": {},
   "outputs": [
    {
     "name": "stdout",
     "output_type": "stream",
     "text": [
      "                            OLS Regression Results                            \n",
      "==============================================================================\n",
      "Dep. Variable:                      y   R-squared:                       0.977\n",
      "Model:                            OLS   Adj. R-squared:                  0.977\n",
      "Method:                 Least Squares   F-statistic:                     2178.\n",
      "Date:                Wed, 17 Apr 2019   Prob (F-statistic):          1.89e-165\n",
      "Time:                        15:38:16   Log-Likelihood:                -2.5235\n",
      "No. Observations:                 208   AIC:                             15.05\n",
      "Df Residuals:                     203   BIC:                             31.73\n",
      "Df Model:                           4                                         \n",
      "Covariance Type:            nonrobust                                         \n",
      "==============================================================================\n",
      "                 coef    std err          t      P>|t|      [0.025      0.975]\n",
      "------------------------------------------------------------------------------\n",
      "Intercept      0.2157      0.071      3.045      0.003       0.076       0.355\n",
      "unem_lag1      1.6474      0.069     23.719      0.000       1.510       1.784\n",
      "unem_lag2     -0.6994      0.134     -5.209      0.000      -0.964      -0.435\n",
      "unem_lag3      0.0240      0.134      0.179      0.858      -0.241       0.289\n",
      "unem_lag4     -0.0076      0.070     -0.109      0.913      -0.145       0.130\n",
      "==============================================================================\n",
      "Omnibus:                       39.881   Durbin-Watson:                   2.001\n",
      "Prob(Omnibus):                  0.000   Jarque-Bera (JB):               84.418\n",
      "Skew:                           0.904   Prob(JB):                     4.67e-19\n",
      "Kurtosis:                       5.543   Cond. No.                         138.\n",
      "==============================================================================\n",
      "\n",
      "Warnings:\n",
      "[1] Standard Errors assume that the covariance matrix of the errors is correctly specified.\n"
     ]
    }
   ],
   "source": [
    "formula = 'y ~ unem_lag1 + unem_lag2 + unem_lag3 + unem_lag4'\n",
    "def_df1 = pd.DataFrame(np.c_[y, unem_lag1, unem_lag2, unem_lag3, unem_lag4])\n",
    "\n",
    "model = smf.ols(formula, data=def_df1)\n",
    "results = model.fit()\n",
    "print(results.summary())"
   ]
  },
  {
   "cell_type": "code",
   "execution_count": 351,
   "metadata": {},
   "outputs": [
    {
     "name": "stdout",
     "output_type": "stream",
     "text": [
      "                            OLS Regression Results                            \n",
      "==============================================================================\n",
      "Dep. Variable:                      y   R-squared:                       0.054\n",
      "Model:                            OLS   Adj. R-squared:                  0.036\n",
      "Method:                 Least Squares   F-statistic:                     2.916\n",
      "Date:                Wed, 17 Apr 2019   Prob (F-statistic):             0.0224\n",
      "Time:                        15:39:10   Log-Likelihood:                -390.06\n",
      "No. Observations:                 208   AIC:                             790.1\n",
      "Df Residuals:                     203   BIC:                             806.8\n",
      "Df Model:                           4                                         \n",
      "Covariance Type:            nonrobust                                         \n",
      "==============================================================================\n",
      "                 coef    std err          t      P>|t|      [0.025      0.975]\n",
      "------------------------------------------------------------------------------\n",
      "Intercept      5.3842      0.244     22.093      0.000       4.904       5.865\n",
      "cpi_lag1       0.0167      0.151      0.110      0.912      -0.282       0.315\n",
      "cpi_lag2       0.0101      0.261      0.039      0.969      -0.505       0.526\n",
      "cpi_lag3       0.1858      0.262      0.710      0.479      -0.330       0.702\n",
      "cpi_lag4      -0.2084      0.152     -1.370      0.172      -0.508       0.091\n",
      "==============================================================================\n",
      "Omnibus:                       12.867   Durbin-Watson:                   0.058\n",
      "Prob(Omnibus):                  0.002   Jarque-Bera (JB):               14.087\n",
      "Skew:                           0.637   Prob(JB):                     0.000873\n",
      "Kurtosis:                       2.942   Cond. No.                         845.\n",
      "==============================================================================\n",
      "\n",
      "Warnings:\n",
      "[1] Standard Errors assume that the covariance matrix of the errors is correctly specified.\n"
     ]
    }
   ],
   "source": [
    "formula2 = 'y ~ cpi_lag1 + cpi_lag2 + cpi_lag3 + cpi_lag4'\n",
    "def_df = pd.DataFrame(np.c_[y, cpi_lag1, cpi_lag2, cpi_lag3, cpi_lag4])\n",
    "\n",
    "model2 = smf.ols(formula2, data=def_df)\n",
    "results2 = model2.fit()\n",
    "print(results2.summary())\n"
   ]
  },
  {
   "cell_type": "markdown",
   "metadata": {},
   "source": [
    "## 12\n",
    "12. Représentez graphiquement les délais distribués et commentez. Calculer l’impact à long de\n",
    "terme de l’inflation sur le chômage."
   ]
  },
  {
   "cell_type": "code",
   "execution_count": 358,
   "metadata": {},
   "outputs": [
    {
     "data": {
      "image/png": "[encoded data removed]",
      "text/plain": [
       "<Figure size 1224x504 with 1 Axes>"
      ]
     },
     "metadata": {},
     "output_type": "display_data"
    }
   ],
   "source": [
    "plt.figure(figsize=(17,7))\n",
    "plt.plot(df[\"CPI\"].reset_index(drop=True),label=\"CPI\")\n",
    "plt.plot(cpi_lag1,label=\"CPI lag 1\")\n",
    "plt.plot(cpi_lag2,label=\"CPI lag 2\")\n",
    "plt.plot(cpi_lag3,label=\"CPI lag 3\")\n",
    "plt.plot(cpi_lag4,label=\"CPI lag 4\")\n",
    "plt.ylabel(\"CPI Values\")\n",
    "plt.title(\"CPI Lag plot\")\n",
    "plt.legend()\n",
    "plt.show()\n"
   ]
  },
  {
   "cell_type": "code",
   "execution_count": 359,
   "metadata": {},
   "outputs": [
    {
     "data": {
      "image/png": "[encoded data removed]",
      "text/plain": [
       "<Figure size 1224x504 with 1 Axes>"
      ]
     },
     "metadata": {},
     "output_type": "display_data"
    }
   ],
   "source": [
    "plt.figure(figsize=(17,7))\n",
    "plt.plot(df[\"Unemp\"].reset_index(drop=True),label=\"Unemp\")\n",
    "plt.plot(unem_lag1,label=\"Unemp lag 1\")\n",
    "plt.plot(unem_lag2,label=\"Unemp lag 2\")\n",
    "plt.plot(unem_lag3,label=\"Unemp lag 3\")\n",
    "plt.plot(unem_lag4,label=\"Unemp lag 4\")\n",
    "plt.ylabel(\"Unemp Values\")\n",
    "plt.title(\"Unemp Lag plot\")\n",
    "plt.legend()\n",
    "plt.show()"
   ]
  },
  {
   "cell_type": "code",
   "execution_count": null,
   "metadata": {},
   "outputs": [],
   "source": []
  },
  {
   "cell_type": "code",
   "execution_count": null,
   "metadata": {},
   "outputs": [],
   "source": []
  }
 ],
 "metadata": {
  "kernelspec": {
   "display_name": "Python 3",
   "language": "python",
   "name": "python3"
  },
  "language_info": {
   "codemirror_mode": {
    "name": "ipython",
    "version": 3
   },
   "file_extension": ".py",
   "mimetype": "text/x-python",
   "name": "python",
   "nbconvert_exporter": "python",
   "pygments_lexer": "ipython3",
   "version": "3.6.8"
  },
  "latex_envs": {
   "LaTeX_envs_menu_present": true,
   "autoclose": false,
   "autocomplete": true,
   "bibliofile": "biblio.bib",
   "cite_by": "apalike",
   "current_citInitial": 1,
   "eqLabelWithNumbers": true,
   "eqNumInitial": 1,
   "hotkeys": {
    "equation": "Ctrl-E",
    "itemize": "Ctrl-I"
   },
   "labels_anchors": false,
   "latex_user_defs": false,
   "report_style_numbering": false,
   "user_envs_cfg": false
  },
  "toc": {
   "base_numbering": 1,
   "nav_menu": {},
   "number_sections": true,
   "sideBar": true,
   "skip_h1_title": false,
   "title_cell": "Table of Contents",
   "title_sidebar": "Contents",
   "toc_cell": false,
   "toc_position": {},
   "toc_section_display": true,
   "toc_window_display": false
  },
  "varInspector": {
   "cols": {
    "lenName": 16,
    "lenType": 16,
    "lenVar": 40
   },
   "kernels_config": {
    "python": {
     "delete_cmd_postfix": "",
     "delete_cmd_prefix": "del ",
     "library": "var_list.py",
     "varRefreshCmd": "print(var_dic_list())"
    },
    "r": {
     "delete_cmd_postfix": ") ",
     "delete_cmd_prefix": "rm(",
     "library": "var_list.r",
     "varRefreshCmd": "cat(var_dic_list()) "
    }
   },
   "types_to_exclude": [
    "module",
    "function",
    "builtin_function_or_method",
    "instance",
    "_Feature"
   ],
   "window_display": false
  }
 },
 "nbformat": 4,
 "nbformat_minor": 2
}
